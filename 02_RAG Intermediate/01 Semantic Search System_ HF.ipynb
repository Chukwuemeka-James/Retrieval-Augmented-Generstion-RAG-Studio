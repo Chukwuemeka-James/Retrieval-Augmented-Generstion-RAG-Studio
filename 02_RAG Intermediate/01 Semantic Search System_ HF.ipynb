{
 "cells": [
  {
   "cell_type": "markdown",
   "id": "3990412c",
   "metadata": {},
   "source": [
    "## **Semantic Search System Using Document Embeddings and Vector Databases**\n",
    "\n",
    "#### **Introduction:**\n",
    "In today’s world, the ability to efficiently search and retrieve relevant information from large document collections is crucial for businesses and organizations. Traditional keyword-based search systems often fall short when dealing with complex queries or when users are unsure of the exact terms to search for. This is where **semantic search** comes into play.\n",
    "\n",
    "Semantic search leverages **natural language processing (NLP)** and **machine learning** to understand the meaning behind words and phrases, enabling more accurate and context-aware retrieval of information. In this lecture, we will explore how to build a semantic search system using **document embeddings** and **vector databases**.\n",
    "\n",
    "#### **Key Concepts Covered:**\n",
    "1. **Document Embeddings**: Representing text as high-dimensional vectors that capture semantic meaning.\n",
    "2. **Vector Databases**: Storing and querying embeddings efficiently for fast retrieval.\n",
    "3. **Visualizing Embeddings**: Using dimensionality reduction techniques like t-SNE to visualize high-dimensional data in 2D.\n"
   ]
  },
  {
   "cell_type": "markdown",
   "id": "32785e7e",
   "metadata": {},
   "source": [
    "### To get started with this notebook run\n",
    "\n",
    "`!pip install langchain langchain-openai langchain-chroma langchain-huggingface numpy scikit-learn plotly gradio python-dotenv`"
   ]
  },
  {
   "cell_type": "code",
   "execution_count": 1,
   "id": "05ac91ee",
   "metadata": {},
   "outputs": [],
   "source": [
    "# importing libraries\n",
    "from langchain.document_loaders import DirectoryLoader, TextLoader\n",
    "from langchain.text_splitter import CharacterTextSplitter\n",
    "from langchain.schema import Document\n",
    "from langchain_openai import OpenAIEmbeddings, ChatOpenAI\n",
    "from langchain_chroma import Chroma\n",
    "import numpy as np\n",
    "from sklearn.manifold import TSNE\n",
    "import plotly.graph_objects as go\n",
    "\n",
    "\n",
    "import os\n",
    "import glob\n",
    "from dotenv import load_dotenv\n",
    "import gradio as gr"
   ]
  },
  {
   "cell_type": "markdown",
   "id": "4f800bf0",
   "metadata": {},
   "source": [
    "#### **Configuring the Database**\n"
   ]
  },
  {
   "cell_type": "code",
   "execution_count": 2,
   "id": "a0995df8",
   "metadata": {},
   "outputs": [],
   "source": [
    "db_name = \"vector_db\""
   ]
  },
  {
   "cell_type": "markdown",
   "id": "0e79a371",
   "metadata": {},
   "source": [
    "#### **Loading and Preprocessing Documents**\n",
    "\n",
    "let's load the documents from the subfolders in the `Palazon Global Database` directory."
   ]
  },
  {
   "cell_type": "code",
   "execution_count": 3,
   "id": "92eb2be1",
   "metadata": {},
   "outputs": [],
   "source": [
    "folders = glob.glob(\"../Palazon Global Database/*\")\n",
    "text_loader_kwargs = {'encoding': 'utf-8'}\n",
    "documents = []\n",
    "for folder in folders:\n",
    "    doc_type = os.path.basename(folder)\n",
    "    loader = DirectoryLoader(folder, glob=\"**/*.md\", loader_cls=TextLoader, loader_kwargs=text_loader_kwargs)\n",
    "    folder_docs = loader.load()\n",
    "    for doc in folder_docs:\n",
    "        doc.metadata[\"doc_type\"] = doc_type\n",
    "        documents.append(doc)"
   ]
  },
  {
   "cell_type": "markdown",
   "id": "da7a33a1",
   "metadata": {},
   "source": [
    "#### **Splitting Documents into Chunks**\n",
    "\n",
    "\n",
    "let's split the documents into smaller chunks (1000 characters each) with an overlap of 200 characters to ensure context is preserved across chunks."
   ]
  },
  {
   "cell_type": "code",
   "execution_count": 4,
   "id": "2a98a949",
   "metadata": {},
   "outputs": [],
   "source": [
    "text_splitter = CharacterTextSplitter(chunk_size=1000, chunk_overlap=200)\n",
    "chunks = text_splitter.split_documents(documents)"
   ]
  },
  {
   "cell_type": "markdown",
   "id": "8944b41d",
   "metadata": {},
   "source": [
    "#### **Analyzing Document Types**\n",
    "\n",
    "Let's identify and print the unique document types found in the dataset, to provide insights into the data structure."
   ]
  },
  {
   "cell_type": "code",
   "execution_count": 5,
   "id": "c10d13ad",
   "metadata": {},
   "outputs": [
    {
     "name": "stdout",
     "output_type": "stream",
     "text": [
      "Document types found: products, company, contracts, employees\n"
     ]
    }
   ],
   "source": [
    "doc_types = set(chunk.metadata['doc_type'] for chunk in chunks)\n",
    "print(f\"Document types found: {', '.join(doc_types)}\")"
   ]
  },
  {
   "cell_type": "markdown",
   "id": "5ecc5c86",
   "metadata": {},
   "source": [
    "#### **Generating Embeddings using HuggingFace**\n",
    "\n",
    "HuggingFace embeddings are generated for each text chunk, converting text into high-dimensional vectors that capture semantic meaning."
   ]
  },
  {
   "cell_type": "code",
   "execution_count": 8,
   "id": "7dd1f13e",
   "metadata": {},
   "outputs": [
    {
     "name": "stdout",
     "output_type": "stream",
     "text": [
      "Collecting langchain-huggingface\n",
      "  Downloading langchain_huggingface-0.1.2-py3-none-any.whl.metadata (1.3 kB)\n",
      "Requirement already satisfied: huggingface-hub>=0.23.0 in /home/chukwuemeka-james/anaconda3/envs/llms/lib/python3.11/site-packages (from langchain-huggingface) (0.29.2)\n",
      "Requirement already satisfied: langchain-core<0.4.0,>=0.3.15 in /home/chukwuemeka-james/anaconda3/envs/llms/lib/python3.11/site-packages (from langchain-huggingface) (0.3.42)\n",
      "Requirement already satisfied: sentence-transformers>=2.6.0 in /home/chukwuemeka-james/anaconda3/envs/llms/lib/python3.11/site-packages (from langchain-huggingface) (3.4.1)\n",
      "Requirement already satisfied: tokenizers>=0.19.1 in /home/chukwuemeka-james/anaconda3/envs/llms/lib/python3.11/site-packages (from langchain-huggingface) (0.21.0)\n",
      "Requirement already satisfied: transformers>=4.39.0 in /home/chukwuemeka-james/anaconda3/envs/llms/lib/python3.11/site-packages (from langchain-huggingface) (4.49.0)\n",
      "Requirement already satisfied: filelock in /home/chukwuemeka-james/anaconda3/envs/llms/lib/python3.11/site-packages (from huggingface-hub>=0.23.0->langchain-huggingface) (3.17.0)\n",
      "Requirement already satisfied: fsspec>=2023.5.0 in /home/chukwuemeka-james/anaconda3/envs/llms/lib/python3.11/site-packages (from huggingface-hub>=0.23.0->langchain-huggingface) (2024.12.0)\n",
      "Requirement already satisfied: packaging>=20.9 in /home/chukwuemeka-james/anaconda3/envs/llms/lib/python3.11/site-packages (from huggingface-hub>=0.23.0->langchain-huggingface) (24.2)\n",
      "Requirement already satisfied: pyyaml>=5.1 in /home/chukwuemeka-james/anaconda3/envs/llms/lib/python3.11/site-packages (from huggingface-hub>=0.23.0->langchain-huggingface) (6.0.2)\n",
      "Requirement already satisfied: requests in /home/chukwuemeka-james/anaconda3/envs/llms/lib/python3.11/site-packages (from huggingface-hub>=0.23.0->langchain-huggingface) (2.32.3)\n",
      "Requirement already satisfied: tqdm>=4.42.1 in /home/chukwuemeka-james/anaconda3/envs/llms/lib/python3.11/site-packages (from huggingface-hub>=0.23.0->langchain-huggingface) (4.67.1)\n",
      "Requirement already satisfied: typing-extensions>=3.7.4.3 in /home/chukwuemeka-james/anaconda3/envs/llms/lib/python3.11/site-packages (from huggingface-hub>=0.23.0->langchain-huggingface) (4.12.2)\n",
      "Requirement already satisfied: langsmith<0.4,>=0.1.125 in /home/chukwuemeka-james/anaconda3/envs/llms/lib/python3.11/site-packages (from langchain-core<0.4.0,>=0.3.15->langchain-huggingface) (0.3.12)\n",
      "Requirement already satisfied: tenacity!=8.4.0,<10.0.0,>=8.1.0 in /home/chukwuemeka-james/anaconda3/envs/llms/lib/python3.11/site-packages (from langchain-core<0.4.0,>=0.3.15->langchain-huggingface) (9.0.0)\n",
      "Requirement already satisfied: jsonpatch<2.0,>=1.33 in /home/chukwuemeka-james/anaconda3/envs/llms/lib/python3.11/site-packages (from langchain-core<0.4.0,>=0.3.15->langchain-huggingface) (1.33)\n",
      "Requirement already satisfied: pydantic<3.0.0,>=2.5.2 in /home/chukwuemeka-james/anaconda3/envs/llms/lib/python3.11/site-packages (from langchain-core<0.4.0,>=0.3.15->langchain-huggingface) (2.10.6)\n",
      "Requirement already satisfied: torch>=1.11.0 in /home/chukwuemeka-james/anaconda3/envs/llms/lib/python3.11/site-packages (from sentence-transformers>=2.6.0->langchain-huggingface) (2.6.0)\n",
      "Requirement already satisfied: scikit-learn in /home/chukwuemeka-james/anaconda3/envs/llms/lib/python3.11/site-packages (from sentence-transformers>=2.6.0->langchain-huggingface) (1.6.1)\n",
      "Requirement already satisfied: scipy in /home/chukwuemeka-james/anaconda3/envs/llms/lib/python3.11/site-packages (from sentence-transformers>=2.6.0->langchain-huggingface) (1.13.1)\n",
      "Requirement already satisfied: Pillow in /home/chukwuemeka-james/anaconda3/envs/llms/lib/python3.11/site-packages (from sentence-transformers>=2.6.0->langchain-huggingface) (11.1.0)\n",
      "Requirement already satisfied: numpy>=1.17 in /home/chukwuemeka-james/anaconda3/envs/llms/lib/python3.11/site-packages (from transformers>=4.39.0->langchain-huggingface) (1.26.4)\n",
      "Requirement already satisfied: regex!=2019.12.17 in /home/chukwuemeka-james/anaconda3/envs/llms/lib/python3.11/site-packages (from transformers>=4.39.0->langchain-huggingface) (2024.11.6)\n",
      "Requirement already satisfied: safetensors>=0.4.1 in /home/chukwuemeka-james/anaconda3/envs/llms/lib/python3.11/site-packages (from transformers>=4.39.0->langchain-huggingface) (0.5.3)\n",
      "Requirement already satisfied: jsonpointer>=1.9 in /home/chukwuemeka-james/anaconda3/envs/llms/lib/python3.11/site-packages (from jsonpatch<2.0,>=1.33->langchain-core<0.4.0,>=0.3.15->langchain-huggingface) (3.0.0)\n",
      "Requirement already satisfied: httpx<1,>=0.23.0 in /home/chukwuemeka-james/anaconda3/envs/llms/lib/python3.11/site-packages (from langsmith<0.4,>=0.1.125->langchain-core<0.4.0,>=0.3.15->langchain-huggingface) (0.28.1)\n",
      "Requirement already satisfied: orjson<4.0.0,>=3.9.14 in /home/chukwuemeka-james/anaconda3/envs/llms/lib/python3.11/site-packages (from langsmith<0.4,>=0.1.125->langchain-core<0.4.0,>=0.3.15->langchain-huggingface) (3.10.15)\n",
      "Requirement already satisfied: requests-toolbelt<2.0.0,>=1.0.0 in /home/chukwuemeka-james/anaconda3/envs/llms/lib/python3.11/site-packages (from langsmith<0.4,>=0.1.125->langchain-core<0.4.0,>=0.3.15->langchain-huggingface) (1.0.0)\n",
      "Requirement already satisfied: zstandard<0.24.0,>=0.23.0 in /home/chukwuemeka-james/anaconda3/envs/llms/lib/python3.11/site-packages (from langsmith<0.4,>=0.1.125->langchain-core<0.4.0,>=0.3.15->langchain-huggingface) (0.23.0)\n",
      "Requirement already satisfied: annotated-types>=0.6.0 in /home/chukwuemeka-james/anaconda3/envs/llms/lib/python3.11/site-packages (from pydantic<3.0.0,>=2.5.2->langchain-core<0.4.0,>=0.3.15->langchain-huggingface) (0.7.0)\n",
      "Requirement already satisfied: pydantic-core==2.27.2 in /home/chukwuemeka-james/anaconda3/envs/llms/lib/python3.11/site-packages (from pydantic<3.0.0,>=2.5.2->langchain-core<0.4.0,>=0.3.15->langchain-huggingface) (2.27.2)\n",
      "Requirement already satisfied: charset_normalizer<4,>=2 in /home/chukwuemeka-james/anaconda3/envs/llms/lib/python3.11/site-packages (from requests->huggingface-hub>=0.23.0->langchain-huggingface) (3.4.1)\n",
      "Requirement already satisfied: idna<4,>=2.5 in /home/chukwuemeka-james/anaconda3/envs/llms/lib/python3.11/site-packages (from requests->huggingface-hub>=0.23.0->langchain-huggingface) (3.10)\n",
      "Requirement already satisfied: urllib3<3,>=1.21.1 in /home/chukwuemeka-james/anaconda3/envs/llms/lib/python3.11/site-packages (from requests->huggingface-hub>=0.23.0->langchain-huggingface) (2.3.0)\n",
      "Requirement already satisfied: certifi>=2017.4.17 in /home/chukwuemeka-james/anaconda3/envs/llms/lib/python3.11/site-packages (from requests->huggingface-hub>=0.23.0->langchain-huggingface) (2025.1.31)\n",
      "Requirement already satisfied: sympy!=1.13.2,>=1.13.1 in /home/chukwuemeka-james/anaconda3/envs/llms/lib/python3.11/site-packages (from torch>=1.11.0->sentence-transformers>=2.6.0->langchain-huggingface) (1.13.3)\n",
      "Requirement already satisfied: networkx in /home/chukwuemeka-james/anaconda3/envs/llms/lib/python3.11/site-packages (from torch>=1.11.0->sentence-transformers>=2.6.0->langchain-huggingface) (3.4.2)\n",
      "Requirement already satisfied: jinja2 in /home/chukwuemeka-james/anaconda3/envs/llms/lib/python3.11/site-packages (from torch>=1.11.0->sentence-transformers>=2.6.0->langchain-huggingface) (3.1.6)\n",
      "Requirement already satisfied: joblib>=1.2.0 in /home/chukwuemeka-james/anaconda3/envs/llms/lib/python3.11/site-packages (from scikit-learn->sentence-transformers>=2.6.0->langchain-huggingface) (1.4.2)\n",
      "Requirement already satisfied: threadpoolctl>=3.1.0 in /home/chukwuemeka-james/anaconda3/envs/llms/lib/python3.11/site-packages (from scikit-learn->sentence-transformers>=2.6.0->langchain-huggingface) (3.5.0)\n",
      "Requirement already satisfied: anyio in /home/chukwuemeka-james/anaconda3/envs/llms/lib/python3.11/site-packages (from httpx<1,>=0.23.0->langsmith<0.4,>=0.1.125->langchain-core<0.4.0,>=0.3.15->langchain-huggingface) (4.8.0)\n",
      "Requirement already satisfied: httpcore==1.* in /home/chukwuemeka-james/anaconda3/envs/llms/lib/python3.11/site-packages (from httpx<1,>=0.23.0->langsmith<0.4,>=0.1.125->langchain-core<0.4.0,>=0.3.15->langchain-huggingface) (1.0.7)\n",
      "Requirement already satisfied: h11<0.15,>=0.13 in /home/chukwuemeka-james/anaconda3/envs/llms/lib/python3.11/site-packages (from httpcore==1.*->httpx<1,>=0.23.0->langsmith<0.4,>=0.1.125->langchain-core<0.4.0,>=0.3.15->langchain-huggingface) (0.14.0)\n",
      "Requirement already satisfied: mpmath<1.4,>=1.1.0 in /home/chukwuemeka-james/anaconda3/envs/llms/lib/python3.11/site-packages (from sympy!=1.13.2,>=1.13.1->torch>=1.11.0->sentence-transformers>=2.6.0->langchain-huggingface) (1.3.0)\n",
      "Requirement already satisfied: MarkupSafe>=2.0 in /home/chukwuemeka-james/anaconda3/envs/llms/lib/python3.11/site-packages (from jinja2->torch>=1.11.0->sentence-transformers>=2.6.0->langchain-huggingface) (2.1.5)\n",
      "Requirement already satisfied: sniffio>=1.1 in /home/chukwuemeka-james/anaconda3/envs/llms/lib/python3.11/site-packages (from anyio->httpx<1,>=0.23.0->langsmith<0.4,>=0.1.125->langchain-core<0.4.0,>=0.3.15->langchain-huggingface) (1.3.1)\n",
      "Downloading langchain_huggingface-0.1.2-py3-none-any.whl (21 kB)\n",
      "Installing collected packages: langchain-huggingface\n",
      "Successfully installed langchain-huggingface-0.1.2\n"
     ]
    }
   ],
   "source": [
    "! pip install -U langchain-huggingface\n"
   ]
  },
  {
   "cell_type": "code",
   "execution_count": 9,
   "id": "cf0913b4",
   "metadata": {},
   "outputs": [],
   "source": [
    "from langchain_huggingface import HuggingFaceEmbeddings\n",
    "\n",
    "embeddings = HuggingFaceEmbeddings(model_name=\"sentence-transformers/all-MiniLM-L6-v2\")"
   ]
  },
  {
   "cell_type": "markdown",
   "id": "39ee72a9",
   "metadata": {},
   "source": [
    "### **Next step: Indexing**  \n",
    "\n",
    "Indexing in a **RAG (Retrieval-Augmented Generation) system** involves converting documents into **vector embeddings** and storing them in a **vector database** for efficient retrieval. Here’s what actually happens:  \n",
    "\n",
    "1. **Text Embedding:**  \n",
    "   - The embedding model (**e.g., `sentence-transformers/all-MiniLM-L6-v2`**) converts each document (or chunk) into a high-dimensional numerical vector.  \n",
    "   - This transformation captures the semantic meaning of the text.  \n",
    "\n",
    "2. **Storing in the Vector Database:**  \n",
    "   - The generated embeddings are stored in a **vector store** (e.g., **ChromaDB**) alongside metadata like document type.  \n",
    "   - These embeddings act as **index entries**, allowing the system to quickly find semantically similar texts.  "
   ]
  },
  {
   "cell_type": "code",
   "execution_count": 10,
   "id": "7daf728f",
   "metadata": {},
   "outputs": [
    {
     "name": "stdout",
     "output_type": "stream",
     "text": [
      "Vectorstore created with 62 documents\n"
     ]
    }
   ],
   "source": [
    "# Managing the Chroma Vector Store\n",
    "if os.path.exists(db_name):\n",
    "    Chroma(persist_directory=db_name, embedding_function=embeddings).delete_collection()\n",
    "\n",
    "# Indexing\n",
    "vectorstore = Chroma.from_documents(documents=chunks, embedding=embeddings, persist_directory=db_name)\n",
    "print(f\"Vectorstore created with {vectorstore._collection.count()} documents\")"
   ]
  },
  {
   "cell_type": "markdown",
   "id": "e366f671",
   "metadata": {},
   "source": [
    "The Chroma vector store is initialized. If an existing store is found, it is deleted to start fresh. The new store is populated with document chunks and their embeddings.\n",
    "\n",
    "---"
   ]
  },
  {
   "cell_type": "markdown",
   "id": "e2385357",
   "metadata": {},
   "source": [
    "#### **Analyzing Embedding Dimensions**\n",
    "\n",
    "Let's retrieves a sample embedding and prints its dimensionality."
   ]
  },
  {
   "cell_type": "code",
   "execution_count": 11,
   "id": "71df45d8",
   "metadata": {},
   "outputs": [
    {
     "name": "stdout",
     "output_type": "stream",
     "text": [
      "The vectors have 384 dimensions\n"
     ]
    }
   ],
   "source": [
    "collection = vectorstore._collection\n",
    "sample_embedding = collection.get(limit=1, include=[\"embeddings\"])[\"embeddings\"][0]\n",
    "dimensions = len(sample_embedding)\n",
    "print(f\"The vectors have {dimensions:,} dimensions\")"
   ]
  },
  {
   "cell_type": "markdown",
   "id": "20c48601",
   "metadata": {},
   "source": [
    "#### **Visualizing the Vector Store**\n"
   ]
  },
  {
   "cell_type": "code",
   "execution_count": 12,
   "id": "ea1a0086",
   "metadata": {},
   "outputs": [],
   "source": [
    "result = collection.get(include=['embeddings', 'documents', 'metadatas'])\n",
    "vectors = np.array(result['embeddings'])\n",
    "documents = result['documents']\n",
    "doc_types = [metadata['doc_type'] for metadata in result['metadatas']]\n",
    "colors = [['blue', 'green', 'red', 'orange'][['products', 'employees', 'contracts', 'company'].index(t)] for t in doc_types]"
   ]
  },
  {
   "cell_type": "markdown",
   "id": "af989622",
   "metadata": {},
   "source": [
    "- **To explain the above code**: The embeddings, documents, and metadata are retrieved for visualization. Each document type is assigned a unique color for clarity.\n",
    "\n",
    "---"
   ]
  },
  {
   "cell_type": "markdown",
   "id": "a3ffdbc0",
   "metadata": {},
   "source": [
    "#### **Reducing Dimensionality with t-SNE**"
   ]
  },
  {
   "cell_type": "code",
   "execution_count": 13,
   "id": "e2d6c232",
   "metadata": {},
   "outputs": [],
   "source": [
    "tsne = TSNE(n_components=2, random_state=42)\n",
    "reduced_vectors = tsne.fit_transform(vectors)"
   ]
  },
  {
   "cell_type": "markdown",
   "id": "2b594a2a",
   "metadata": {},
   "source": [
    "### **What is t-SNE?**\n",
    "**t-SNE (t-Distributed Stochastic Neighbor Embedding)** is a dimensionality reduction technique used to visualize high-dimensional data in 2D or 3D. It preserves the local structure of the data, meaning points that are close in high-dimensional space remain close in the reduced space.\n",
    "\n",
    "### **How It Works**\n",
    "- t-SNE minimizes the difference between pairwise similarities in high-dimensional space and low-dimensional space.\n",
    "- It emphasizes local relationships, making it ideal for visualizing clusters of semantically similar documents.\n",
    "\n",
    "### **Why Is It Necessary?**\n",
    "Without t-SNE, we cannot visualize or interpret the high-dimensional embeddings. It bridges the gap between complex mathematical representations and human-understandable visuals, making it easier to debug and analyze the semantic search system."
   ]
  },
  {
   "cell_type": "markdown",
   "id": "d617231a",
   "metadata": {},
   "source": [
    "#### **Creating the 2D Scatter Plot**\n"
   ]
  },
  {
   "cell_type": "code",
   "execution_count": 14,
   "id": "4ffba6cc",
   "metadata": {},
   "outputs": [
    {
     "data": {
      "application/vnd.plotly.v1+json": {
       "config": {
        "plotlyServerURL": "https://plot.ly"
       },
       "data": [
        {
         "hoverinfo": "text",
         "marker": {
          "color": [
           "red",
           "red",
           "red",
           "red",
           "red",
           "red",
           "red",
           "red",
           "red",
           "red",
           "red",
           "red",
           "red",
           "red",
           "red",
           "red",
           "red",
           "red",
           "red",
           "red",
           "red",
           "red",
           "green",
           "green",
           "green",
           "green",
           "green",
           "green",
           "green",
           "green",
           "green",
           "green",
           "green",
           "green",
           "green",
           "green",
           "green",
           "green",
           "green",
           "green",
           "green",
           "green",
           "green",
           "green",
           "green",
           "blue",
           "blue",
           "blue",
           "blue",
           "blue",
           "blue",
           "blue",
           "blue",
           "blue",
           "blue",
           "blue",
           "orange",
           "orange",
           "orange",
           "orange",
           "orange",
           "orange"
          ],
          "opacity": 0.8,
          "size": 5
         },
         "mode": "markers",
         "text": [
          "Type: contracts<br>Text: # Contract with Sunville Hospitality Group for Resort Solar Power Solution  \n\n## Terms  \n\n1. **Parti...",
          "Type: contracts<br>Text: 2. **Early Renewal Discount**: If Sunville renews at least 6 months before expiration, they receive ...",
          "Type: contracts<br>Text: # Contract with Elite Residences for Solar Home Energy Solutions  \n\n## Terms  \n\n1. **Parties Involve...",
          "Type: contracts<br>Text: ## Features  \n\n1. **Solar-Powered Homes**: Clean energy solutions to reduce reliance on the grid.  \n...",
          "Type: contracts<br>Text: # Contract with SunCity Municipality for Public Solar Street Lighting  \n\n## Terms  \n\n1. **Parties In...",
          "Type: contracts<br>Text: 3. **Real-Time Monitoring**: Centralized control for streetlight management.  \n\n## Support  \n\n1. **R...",
          "Type: contracts<br>Text: # Contract with AgroSolar Farms for Solar Irrigation System  \n\n## Terms  \n\n1. **Parties Involved**: ...",
          "Type: contracts<br>Text: ## Features  \n\n1. **Solar-Powered Water Pumps**: Reliable water supply for irrigation.  \n\n2. **Remot...",
          "Type: contracts<br>Text: # Contract with BrightFuture Hospitals for Solar Backup Power System  \n\n## Terms  \n\n1. **Parties Inv...",
          "Type: contracts<br>Text: ## Features  \n\n1. **Reliable Backup Power**: Solar energy storage ensures uninterrupted power supply...",
          "Type: contracts<br>Text: # Contract with GreenMart Supermarkets for Commercial Solar Energy Solution  \n\n## Terms  \n\n1. **Part...",
          "Type: contracts<br>Text: 2. **Early Renewal Discounts**: GreenMart receives a **5% discount** if renewing at least 90 days be...",
          "Type: contracts<br>Text: # Contract with GreenWave Industries for Off-Grid Solar Solutions  \n\n## Terms  \n\n1. **Parties Involv...",
          "Type: contracts<br>Text: ## Features  \n\n1. **Microgrid Setup**: Independent power system to support off-grid operations.  \n\n2...",
          "Type: contracts<br>Text: # Contract with NovaTech Industries for Industrial Solar Power System  \n\n## Terms  \n\n1. **Parties In...",
          "Type: contracts<br>Text: 2. **Technology Upgrade Clause**: NovaTech can opt for **system upgrades** upon renewal.  \n\n## Featu...",
          "Type: contracts<br>Text: # Contract with Apex Renewable Solutions for Solar Energy Deployment  \n\n## Terms  \n\n1. **Parties Inv...",
          "Type: contracts<br>Text: ## Renewal  \n\n1. **Automatic Renewal**: The Agreement renews annually unless either party provides a...",
          "Type: contracts<br>Text: 2. **Training**: Hands-on training for Client's technical team on solar system management.  \n\n---\n\n*...",
          "Type: contracts<br>Text: # Contract with MetroRail Corporation for Solar-Powered Rail Infrastructure  \n\n## Terms  \n\n1. **Part...",
          "Type: contracts<br>Text: 2. **Energy Output Guarantees**: If output falls below **90% efficiency**, MetroRail may request con...",
          "Type: contracts<br>Text: ---\n\n**Palaozon Global**  \n_____________________________  \nAuthorized Signature  \nDate: ____________...",
          "Type: employees<br>Text: # David Oluwole  \n\n## Summary  \n- **Date of Birth**: November 22, 1985  \n- **Job Title**: Chief Tech...",
          "Type: employees<br>Text: - **2011 - 2015**: Electrical Engineer at PowerBright Energy  \n  Focused on solar grid integrations ...",
          "Type: employees<br>Text: ## Other HR Notes  \n- **Research & Development**: Led the creation of AI-powered solar monitoring.  ...",
          "Type: employees<br>Text: # Chinwe Uche  \n\n## Summary  \n- **Date of Birth**: May 27, 1988  \n- **Job Title**: Chief Financial O...",
          "Type: employees<br>Text: - **2012 - 2016**: Financial Consultant at GreenEnergy Solutions  \n  Assisted solar startups in secu...",
          "Type: employees<br>Text: ## Compensation History  \n- **2020**: $85,000 base salary  \n- **2021**: $90,000 base salary + perfor...",
          "Type: employees<br>Text: # Tunde Alabi  \n\n## Summary  \n- **Date of Birth**: September 12, 1991  \n- **Job Title**: Head of Sal...",
          "Type: employees<br>Text: ## Compensation History  \n- **2021**: $70,000 base salary + commission  \n- **2022**: $80,000 base sa...",
          "Type: employees<br>Text: # Chukwuemeka James\n\n## Summary  \n- **Date of Birth**: April 10, 1980  \n- **Job Title**: Co-Founder ...",
          "Type: employees<br>Text: - **2010 - 2014**: Senior Engineer at EnergyWise Consulting  \n  Chukwuemeka worked as a renewable en...",
          "Type: employees<br>Text: ## Compensation History  \n- **2018**: $120,000 base salary + equity stake  \n- **2019**: $135,000 bas...",
          "Type: employees<br>Text: # Aisha Musa\n\n## Summary  \n- **Date of Birth**: August 12, 1990  \n- **Job Title**: Head of Sales  \n-...",
          "Type: employees<br>Text: ## Compensation History  \n- **2021**: $70,000 base salary  \n- **2022**: $80,000 base salary + commis...",
          "Type: employees<br>Text: # Emmanuel Eze  \n\n## Summary  \n- **Date of Birth**: May 5, 1988  \n- **Job Title**: Marketing Directo...",
          "Type: employees<br>Text: ## Compensation History  \n- **2020**: $75,000 base salary  \n- **2021**: $78,000 base salary + campai...",
          "Type: employees<br>Text: # Jessica Nnamdi  \n\n## Summary  \n- **Date of Birth**: July 18, 1992  \n- **Job Title**: Human Resourc...",
          "Type: employees<br>Text: ## Compensation History  \n- **2021**: $75,000 base salary  \n- **2022**: $80,000 base salary + retent...",
          "Type: employees<br>Text: # Fatima Adelabu\n\n## Summary  \n- **Date of Birth**: June 22, 1987  \n- **Job Title**: Chief Operating...",
          "Type: employees<br>Text: ## Compensation History  \n- **2020**: $90,000 base salary  \n- **2021**: $100,000 base salary + opera...",
          "Type: employees<br>Text: # Kelvin Adeyemi  \n\n## Summary  \n- **Date of Birth**: April 3, 1990  \n- **Job Title**: Lead Electric...",
          "Type: employees<br>Text: ## Compensation History  \n- **2020**: $70,000 base salary  \n- **2021**: $75,000 base salary + perfor...",
          "Type: employees<br>Text: # Michael Okoro\n\n## Summary  \n- **Date of Birth**: September 5, 1985  \n- **Job Title**: Chief Techno...",
          "Type: employees<br>Text: ## Compensation History  \n- **2019**: $95,000 base salary  \n- **2020**: $110,000 base salary + resea...",
          "Type: products<br>Text: # Palaozon Global Batteries\n\n## Overview  \nOur **solar batteries** provide reliable energy storage s...",
          "Type: products<br>Text: ### 3️⃣ **Gel Batteries**  \n- Maintenance-free and highly durable.  \n- Suitable for extreme weather ...",
          "Type: products<br>Text: # Palaozon Global Battery Racks\n\n## Overview  \nPalaozon Global provides **high-quality battery racks...",
          "Type: products<br>Text: # Palaozon Global Solar Wires\n\n## Overview  \nSolar wires are essential for efficient power transmiss...",
          "Type: products<br>Text: With **Palaozon Global Solar Wires**, your solar system is powered **safely and efficiently**....",
          "Type: products<br>Text: # Palaozon Global Inverters\n\n## Overview  \nAt Palaozon Global, we offer high-performance solar inver...",
          "Type: products<br>Text: ### 3️⃣ **Microinverters**  \n- Individual panel optimization for increased efficiency.  \n- Enhances ...",
          "Type: products<br>Text: # Palaozon Global Charge Controllers\n\n## Overview  \nCharge controllers regulate the voltage and curr...",
          "Type: products<br>Text: ## Key Features  \n✅ Intelligent charging algorithms for optimized battery life  \n✅ LCD screen for re...",
          "Type: products<br>Text: # Palaozon Global Solar Panels\n\n## Overview  \nOur **high-efficiency solar panels** convert sunlight ...",
          "Type: products<br>Text: ### 3️⃣ **Bifacial Solar Panels**  \n- Captures sunlight from both front and rear sides.  \n- Increase...",
          "Type: company<br>Text: # About Palaozon Global\n\nPalaozon Global is a leading provider of sustainable solar energy solutions...",
          "Type: company<br>Text: Palaozon Global is shaping the future of energy—one solar panel at a time....",
          "Type: company<br>Text: # Palaozon Global - Company Overview\n\n## Who We Are  \nPalaozon Global is a premier solar energy solu...",
          "Type: company<br>Text: ## Our Impact  \n- **Over 10,000 installations** across residential, commercial, and industrial secto...",
          "Type: company<br>Text: # Careers at Palaozon Global\n\nAt Palaozon Global, we are not just providing solar solutions—we are b...",
          "Type: company<br>Text: ## Career Opportunities  \nWe are always looking for passionate individuals to join our team in the f..."
         ],
         "type": "scatter",
         "x": {
          "bdata": "01dxwOi4aMDcrWzALN14vwIsjsDmVo6+9rBMwJPwR7+dIXrA9PeIv2cvM8DnnwHAAwxNwIcnS7/aFx/A8gnYv/b0TMBQGUzAXyWVv7T5MsAIJg/AzFmmv+0k173nBUU/hwVgv2hbLz763bg/pUa7P5AGJT97khRAd9wkvxLAOL+UoQBAGOJKP/Z8CEAALp0/BBYUQJLL1z+nkytAHtAdP7XhH0ALlI2+WGi/PxF/ur41Dy9AbD+ZwARUnsAUa5PALYBvwHNmV8As03LAVVdywG++acBh5mbA1BOXwPE8lsBh5Q7AzaAjwDrsNsCdfQLAVRXev1Mt5L8=",
          "dtype": "f4"
         },
         "y": {
          "bdata": "UeXSP/eA5z+PCPY+DlmiPwcJfz8xg+w/q2ANP+N3lD9ZdCo/0KSLP5qOND87iiA/v8srP8CUnj9G6tM/lZjDP8ZToz+/RLs/jUcdQHphFUCqxy9AnwRtwNiPnL9gO0fA/WUYv8xG6L/4d0jANZZbwAPMgb/YrIfAttcNwJUu77/4elTAtNmVvz2FhMACAyq/vwx2wGvUBsDmeXvA4c3Gvyi+Y8BYOHy/43VswJAMir9iBlrAECGVvytGiL9Y2K2/ckhNwF2DScDBjADAg3MCwM+yzb+F65a/1vwiwF0lIcBgIOi/iu8VwNhT379dVPa/znHMv5n9oL8=",
          "dtype": "f4"
         }
        }
       ],
       "layout": {
        "height": 600,
        "margin": {
         "b": 10,
         "l": 10,
         "r": 20,
         "t": 40
        },
        "template": {
         "data": {
          "bar": [
           {
            "error_x": {
             "color": "#2a3f5f"
            },
            "error_y": {
             "color": "#2a3f5f"
            },
            "marker": {
             "line": {
              "color": "#E5ECF6",
              "width": 0.5
             },
             "pattern": {
              "fillmode": "overlay",
              "size": 10,
              "solidity": 0.2
             }
            },
            "type": "bar"
           }
          ],
          "barpolar": [
           {
            "marker": {
             "line": {
              "color": "#E5ECF6",
              "width": 0.5
             },
             "pattern": {
              "fillmode": "overlay",
              "size": 10,
              "solidity": 0.2
             }
            },
            "type": "barpolar"
           }
          ],
          "carpet": [
           {
            "aaxis": {
             "endlinecolor": "#2a3f5f",
             "gridcolor": "white",
             "linecolor": "white",
             "minorgridcolor": "white",
             "startlinecolor": "#2a3f5f"
            },
            "baxis": {
             "endlinecolor": "#2a3f5f",
             "gridcolor": "white",
             "linecolor": "white",
             "minorgridcolor": "white",
             "startlinecolor": "#2a3f5f"
            },
            "type": "carpet"
           }
          ],
          "choropleth": [
           {
            "colorbar": {
             "outlinewidth": 0,
             "ticks": ""
            },
            "type": "choropleth"
           }
          ],
          "contour": [
           {
            "colorbar": {
             "outlinewidth": 0,
             "ticks": ""
            },
            "colorscale": [
             [
              0,
              "#0d0887"
             ],
             [
              0.1111111111111111,
              "#46039f"
             ],
             [
              0.2222222222222222,
              "#7201a8"
             ],
             [
              0.3333333333333333,
              "#9c179e"
             ],
             [
              0.4444444444444444,
              "#bd3786"
             ],
             [
              0.5555555555555556,
              "#d8576b"
             ],
             [
              0.6666666666666666,
              "#ed7953"
             ],
             [
              0.7777777777777778,
              "#fb9f3a"
             ],
             [
              0.8888888888888888,
              "#fdca26"
             ],
             [
              1,
              "#f0f921"
             ]
            ],
            "type": "contour"
           }
          ],
          "contourcarpet": [
           {
            "colorbar": {
             "outlinewidth": 0,
             "ticks": ""
            },
            "type": "contourcarpet"
           }
          ],
          "heatmap": [
           {
            "colorbar": {
             "outlinewidth": 0,
             "ticks": ""
            },
            "colorscale": [
             [
              0,
              "#0d0887"
             ],
             [
              0.1111111111111111,
              "#46039f"
             ],
             [
              0.2222222222222222,
              "#7201a8"
             ],
             [
              0.3333333333333333,
              "#9c179e"
             ],
             [
              0.4444444444444444,
              "#bd3786"
             ],
             [
              0.5555555555555556,
              "#d8576b"
             ],
             [
              0.6666666666666666,
              "#ed7953"
             ],
             [
              0.7777777777777778,
              "#fb9f3a"
             ],
             [
              0.8888888888888888,
              "#fdca26"
             ],
             [
              1,
              "#f0f921"
             ]
            ],
            "type": "heatmap"
           }
          ],
          "histogram": [
           {
            "marker": {
             "pattern": {
              "fillmode": "overlay",
              "size": 10,
              "solidity": 0.2
             }
            },
            "type": "histogram"
           }
          ],
          "histogram2d": [
           {
            "colorbar": {
             "outlinewidth": 0,
             "ticks": ""
            },
            "colorscale": [
             [
              0,
              "#0d0887"
             ],
             [
              0.1111111111111111,
              "#46039f"
             ],
             [
              0.2222222222222222,
              "#7201a8"
             ],
             [
              0.3333333333333333,
              "#9c179e"
             ],
             [
              0.4444444444444444,
              "#bd3786"
             ],
             [
              0.5555555555555556,
              "#d8576b"
             ],
             [
              0.6666666666666666,
              "#ed7953"
             ],
             [
              0.7777777777777778,
              "#fb9f3a"
             ],
             [
              0.8888888888888888,
              "#fdca26"
             ],
             [
              1,
              "#f0f921"
             ]
            ],
            "type": "histogram2d"
           }
          ],
          "histogram2dcontour": [
           {
            "colorbar": {
             "outlinewidth": 0,
             "ticks": ""
            },
            "colorscale": [
             [
              0,
              "#0d0887"
             ],
             [
              0.1111111111111111,
              "#46039f"
             ],
             [
              0.2222222222222222,
              "#7201a8"
             ],
             [
              0.3333333333333333,
              "#9c179e"
             ],
             [
              0.4444444444444444,
              "#bd3786"
             ],
             [
              0.5555555555555556,
              "#d8576b"
             ],
             [
              0.6666666666666666,
              "#ed7953"
             ],
             [
              0.7777777777777778,
              "#fb9f3a"
             ],
             [
              0.8888888888888888,
              "#fdca26"
             ],
             [
              1,
              "#f0f921"
             ]
            ],
            "type": "histogram2dcontour"
           }
          ],
          "mesh3d": [
           {
            "colorbar": {
             "outlinewidth": 0,
             "ticks": ""
            },
            "type": "mesh3d"
           }
          ],
          "parcoords": [
           {
            "line": {
             "colorbar": {
              "outlinewidth": 0,
              "ticks": ""
             }
            },
            "type": "parcoords"
           }
          ],
          "pie": [
           {
            "automargin": true,
            "type": "pie"
           }
          ],
          "scatter": [
           {
            "fillpattern": {
             "fillmode": "overlay",
             "size": 10,
             "solidity": 0.2
            },
            "type": "scatter"
           }
          ],
          "scatter3d": [
           {
            "line": {
             "colorbar": {
              "outlinewidth": 0,
              "ticks": ""
             }
            },
            "marker": {
             "colorbar": {
              "outlinewidth": 0,
              "ticks": ""
             }
            },
            "type": "scatter3d"
           }
          ],
          "scattercarpet": [
           {
            "marker": {
             "colorbar": {
              "outlinewidth": 0,
              "ticks": ""
             }
            },
            "type": "scattercarpet"
           }
          ],
          "scattergeo": [
           {
            "marker": {
             "colorbar": {
              "outlinewidth": 0,
              "ticks": ""
             }
            },
            "type": "scattergeo"
           }
          ],
          "scattergl": [
           {
            "marker": {
             "colorbar": {
              "outlinewidth": 0,
              "ticks": ""
             }
            },
            "type": "scattergl"
           }
          ],
          "scattermap": [
           {
            "marker": {
             "colorbar": {
              "outlinewidth": 0,
              "ticks": ""
             }
            },
            "type": "scattermap"
           }
          ],
          "scattermapbox": [
           {
            "marker": {
             "colorbar": {
              "outlinewidth": 0,
              "ticks": ""
             }
            },
            "type": "scattermapbox"
           }
          ],
          "scatterpolar": [
           {
            "marker": {
             "colorbar": {
              "outlinewidth": 0,
              "ticks": ""
             }
            },
            "type": "scatterpolar"
           }
          ],
          "scatterpolargl": [
           {
            "marker": {
             "colorbar": {
              "outlinewidth": 0,
              "ticks": ""
             }
            },
            "type": "scatterpolargl"
           }
          ],
          "scatterternary": [
           {
            "marker": {
             "colorbar": {
              "outlinewidth": 0,
              "ticks": ""
             }
            },
            "type": "scatterternary"
           }
          ],
          "surface": [
           {
            "colorbar": {
             "outlinewidth": 0,
             "ticks": ""
            },
            "colorscale": [
             [
              0,
              "#0d0887"
             ],
             [
              0.1111111111111111,
              "#46039f"
             ],
             [
              0.2222222222222222,
              "#7201a8"
             ],
             [
              0.3333333333333333,
              "#9c179e"
             ],
             [
              0.4444444444444444,
              "#bd3786"
             ],
             [
              0.5555555555555556,
              "#d8576b"
             ],
             [
              0.6666666666666666,
              "#ed7953"
             ],
             [
              0.7777777777777778,
              "#fb9f3a"
             ],
             [
              0.8888888888888888,
              "#fdca26"
             ],
             [
              1,
              "#f0f921"
             ]
            ],
            "type": "surface"
           }
          ],
          "table": [
           {
            "cells": {
             "fill": {
              "color": "#EBF0F8"
             },
             "line": {
              "color": "white"
             }
            },
            "header": {
             "fill": {
              "color": "#C8D4E3"
             },
             "line": {
              "color": "white"
             }
            },
            "type": "table"
           }
          ]
         },
         "layout": {
          "annotationdefaults": {
           "arrowcolor": "#2a3f5f",
           "arrowhead": 0,
           "arrowwidth": 1
          },
          "autotypenumbers": "strict",
          "coloraxis": {
           "colorbar": {
            "outlinewidth": 0,
            "ticks": ""
           }
          },
          "colorscale": {
           "diverging": [
            [
             0,
             "#8e0152"
            ],
            [
             0.1,
             "#c51b7d"
            ],
            [
             0.2,
             "#de77ae"
            ],
            [
             0.3,
             "#f1b6da"
            ],
            [
             0.4,
             "#fde0ef"
            ],
            [
             0.5,
             "#f7f7f7"
            ],
            [
             0.6,
             "#e6f5d0"
            ],
            [
             0.7,
             "#b8e186"
            ],
            [
             0.8,
             "#7fbc41"
            ],
            [
             0.9,
             "#4d9221"
            ],
            [
             1,
             "#276419"
            ]
           ],
           "sequential": [
            [
             0,
             "#0d0887"
            ],
            [
             0.1111111111111111,
             "#46039f"
            ],
            [
             0.2222222222222222,
             "#7201a8"
            ],
            [
             0.3333333333333333,
             "#9c179e"
            ],
            [
             0.4444444444444444,
             "#bd3786"
            ],
            [
             0.5555555555555556,
             "#d8576b"
            ],
            [
             0.6666666666666666,
             "#ed7953"
            ],
            [
             0.7777777777777778,
             "#fb9f3a"
            ],
            [
             0.8888888888888888,
             "#fdca26"
            ],
            [
             1,
             "#f0f921"
            ]
           ],
           "sequentialminus": [
            [
             0,
             "#0d0887"
            ],
            [
             0.1111111111111111,
             "#46039f"
            ],
            [
             0.2222222222222222,
             "#7201a8"
            ],
            [
             0.3333333333333333,
             "#9c179e"
            ],
            [
             0.4444444444444444,
             "#bd3786"
            ],
            [
             0.5555555555555556,
             "#d8576b"
            ],
            [
             0.6666666666666666,
             "#ed7953"
            ],
            [
             0.7777777777777778,
             "#fb9f3a"
            ],
            [
             0.8888888888888888,
             "#fdca26"
            ],
            [
             1,
             "#f0f921"
            ]
           ]
          },
          "colorway": [
           "#636efa",
           "#EF553B",
           "#00cc96",
           "#ab63fa",
           "#FFA15A",
           "#19d3f3",
           "#FF6692",
           "#B6E880",
           "#FF97FF",
           "#FECB52"
          ],
          "font": {
           "color": "#2a3f5f"
          },
          "geo": {
           "bgcolor": "white",
           "lakecolor": "white",
           "landcolor": "#E5ECF6",
           "showlakes": true,
           "showland": true,
           "subunitcolor": "white"
          },
          "hoverlabel": {
           "align": "left"
          },
          "hovermode": "closest",
          "mapbox": {
           "style": "light"
          },
          "paper_bgcolor": "white",
          "plot_bgcolor": "#E5ECF6",
          "polar": {
           "angularaxis": {
            "gridcolor": "white",
            "linecolor": "white",
            "ticks": ""
           },
           "bgcolor": "#E5ECF6",
           "radialaxis": {
            "gridcolor": "white",
            "linecolor": "white",
            "ticks": ""
           }
          },
          "scene": {
           "xaxis": {
            "backgroundcolor": "#E5ECF6",
            "gridcolor": "white",
            "gridwidth": 2,
            "linecolor": "white",
            "showbackground": true,
            "ticks": "",
            "zerolinecolor": "white"
           },
           "yaxis": {
            "backgroundcolor": "#E5ECF6",
            "gridcolor": "white",
            "gridwidth": 2,
            "linecolor": "white",
            "showbackground": true,
            "ticks": "",
            "zerolinecolor": "white"
           },
           "zaxis": {
            "backgroundcolor": "#E5ECF6",
            "gridcolor": "white",
            "gridwidth": 2,
            "linecolor": "white",
            "showbackground": true,
            "ticks": "",
            "zerolinecolor": "white"
           }
          },
          "shapedefaults": {
           "line": {
            "color": "#2a3f5f"
           }
          },
          "ternary": {
           "aaxis": {
            "gridcolor": "white",
            "linecolor": "white",
            "ticks": ""
           },
           "baxis": {
            "gridcolor": "white",
            "linecolor": "white",
            "ticks": ""
           },
           "bgcolor": "#E5ECF6",
           "caxis": {
            "gridcolor": "white",
            "linecolor": "white",
            "ticks": ""
           }
          },
          "title": {
           "x": 0.05
          },
          "xaxis": {
           "automargin": true,
           "gridcolor": "white",
           "linecolor": "white",
           "ticks": "",
           "title": {
            "standoff": 15
           },
           "zerolinecolor": "white",
           "zerolinewidth": 2
          },
          "yaxis": {
           "automargin": true,
           "gridcolor": "white",
           "linecolor": "white",
           "ticks": "",
           "title": {
            "standoff": 15
           },
           "zerolinecolor": "white",
           "zerolinewidth": 2
          }
         }
        },
        "title": {
         "text": "2D Chroma Vector Store Visualization"
        },
        "width": 800,
        "xaxis": {
         "title": {
          "text": "x"
         }
        },
        "yaxis": {
         "title": {
          "text": "y"
         }
        }
       }
      }
     },
     "metadata": {},
     "output_type": "display_data"
    }
   ],
   "source": [
    "fig = go.Figure(data=[go.Scatter(\n",
    "    x=reduced_vectors[:, 0],\n",
    "    y=reduced_vectors[:, 1],\n",
    "    mode='markers',\n",
    "    marker=dict(size=5, color=colors, opacity=0.8),\n",
    "    text=[f\"Type: {t}<br>Text: {d[:100]}...\" for t, d in zip(doc_types, documents)],\n",
    "    hoverinfo='text'\n",
    ")])\n",
    "fig.update_layout(\n",
    "    title='2D Chroma Vector Store Visualization',\n",
    "    xaxis_title='x',\n",
    "    yaxis_title='y',\n",
    "    width=800,\n",
    "    height=600,\n",
    "    margin=dict(r=20, b=10, l=10, t=40)\n",
    ")\n",
    "fig.show()"
   ]
  },
  {
   "cell_type": "markdown",
   "id": "55cfa259",
   "metadata": {},
   "source": [
    "---\n",
    "\n",
    "### **Conclusion**\n",
    "This lecture introduced the concept of **semantic search** and demonstrated how to build a semantic search system using **document embeddings** and **vector databases**. By the end of this session, students should understand how to:\n",
    "1. Load and preprocess documents.\n",
    "2. Generate embeddings and store them in a vector database.\n",
    "3. Visualize embeddings to gain insights into the data.\n",
    "\n",
    "*This foundation can later be extended to include a generative component, transforming the system into a full **Retrieval-Augmented Generation (RAG)** pipeline.*"
   ]
  }
 ],
 "metadata": {
  "kernelspec": {
   "display_name": "llms",
   "language": "python",
   "name": "python3"
  },
  "language_info": {
   "codemirror_mode": {
    "name": "ipython",
    "version": 3
   },
   "file_extension": ".py",
   "mimetype": "text/x-python",
   "name": "python",
   "nbconvert_exporter": "python",
   "pygments_lexer": "ipython3",
   "version": "3.11.11"
  }
 },
 "nbformat": 4,
 "nbformat_minor": 5
}
