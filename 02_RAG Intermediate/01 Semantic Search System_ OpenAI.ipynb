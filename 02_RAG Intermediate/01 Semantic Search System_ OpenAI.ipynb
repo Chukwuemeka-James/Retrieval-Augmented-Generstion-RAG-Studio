{
 "cells": [
  {
   "cell_type": "markdown",
   "id": "3990412c",
   "metadata": {},
   "source": [
    "## **Semantic Search System Using Document Embeddings and Vector Databases**\n",
    "\n",
    "#### **Introduction:**\n",
    "In today’s world, the ability to efficiently search and retrieve relevant information from large document collections is crucial for businesses and organizations. Traditional keyword-based search systems often fall short when dealing with complex queries or when users are unsure of the exact terms to search for. This is where **semantic search** comes into play.\n",
    "\n",
    "Semantic search leverages **natural language processing (NLP)** and **machine learning** to understand the meaning behind words and phrases, enabling more accurate and context-aware retrieval of information. In this lecture, we will explore how to build a semantic search system using **document embeddings** and **vector databases**.\n",
    "\n",
    "#### **Key Concepts Covered:**\n",
    "1. **Document Embeddings**: Representing text as high-dimensional vectors that capture semantic meaning.\n",
    "2. **Vector Databases**: Storing and querying embeddings efficiently for fast retrieval.\n",
    "3. **Visualizing Embeddings**: Using dimensionality reduction techniques like t-SNE to visualize high-dimensional data in 2D.\n"
   ]
  },
  {
   "cell_type": "code",
   "execution_count": null,
   "id": "05ac91ee",
   "metadata": {},
   "outputs": [],
   "source": [
    "# importing libraries\n",
    "from langchain.document_loaders import DirectoryLoader, TextLoader\n",
    "from langchain.text_splitter import CharacterTextSplitter\n",
    "from langchain.schema import Document\n",
    "from langchain_openai import OpenAIEmbeddings, ChatOpenAI\n",
    "from langchain_chroma import Chroma\n",
    "import numpy as np\n",
    "from sklearn.manifold import TSNE\n",
    "import plotly.graph_objects as go\n",
    "\n",
    "\n",
    "import os\n",
    "import glob\n",
    "from dotenv import load_dotenv\n",
    "import gradio as gr"
   ]
  },
  {
   "cell_type": "markdown",
   "id": "4f800bf0",
   "metadata": {},
   "source": [
    "#### **Configuring the Model and Database**\n"
   ]
  },
  {
   "cell_type": "code",
   "execution_count": null,
   "id": "a0995df8",
   "metadata": {},
   "outputs": [],
   "source": [
    "MODEL = \"gpt-4o-mini\"\n",
    "db_name = \"vector_db\""
   ]
  },
  {
   "cell_type": "markdown",
   "id": "50b2135b",
   "metadata": {},
   "source": [
    "#### **Loading Environment Variables**\n"
   ]
  },
  {
   "cell_type": "code",
   "execution_count": null,
   "id": "e21bfbe4",
   "metadata": {},
   "outputs": [],
   "source": [
    "load_dotenv(override=True)\n",
    "openai_api_key = os.getenv('OPENAI_API_KEY')\n",
    "if not openai_api_key:\n",
    "    raise ValueError(\"OPENAI_API_KEY not found in .env file\")\n",
    "os.environ['OPENAI_API_KEY'] = openai_api_key"
   ]
  },
  {
   "cell_type": "markdown",
   "id": "0e79a371",
   "metadata": {},
   "source": [
    "#### **Loading and Preprocessing Documents**\n",
    "\n",
    "let's load the documents from the subfolders in the `Palazon Global Database` directory."
   ]
  },
  {
   "cell_type": "code",
   "execution_count": null,
   "id": "92eb2be1",
   "metadata": {},
   "outputs": [],
   "source": [
    "folders = glob.glob(\"../Palazon Global Database/*\")\n",
    "text_loader_kwargs = {'encoding': 'utf-8'}\n",
    "documents = []\n",
    "for folder in folders:\n",
    "    doc_type = os.path.basename(folder)\n",
    "    loader = DirectoryLoader(folder, glob=\"**/*.md\", loader_cls=TextLoader, loader_kwargs=text_loader_kwargs)\n",
    "    folder_docs = loader.load()\n",
    "    for doc in folder_docs:\n",
    "        doc.metadata[\"doc_type\"] = doc_type\n",
    "        documents.append(doc)"
   ]
  },
  {
   "cell_type": "markdown",
   "id": "da7a33a1",
   "metadata": {},
   "source": [
    "#### **Splitting Documents into Chunks**\n",
    "\n",
    "\n",
    "let's split the documents into smaller chunks (1000 characters each) with an overlap of 200 characters to ensure context is preserved across chunks."
   ]
  },
  {
   "cell_type": "code",
   "execution_count": null,
   "id": "2a98a949",
   "metadata": {},
   "outputs": [],
   "source": [
    "text_splitter = CharacterTextSplitter(chunk_size=1000, chunk_overlap=200)\n",
    "chunks = text_splitter.split_documents(documents)"
   ]
  },
  {
   "cell_type": "markdown",
   "id": "8944b41d",
   "metadata": {},
   "source": [
    "#### **Analyzing Document Types**\n",
    "\n",
    "Let's identify and print the unique document types found in the dataset, to provide insights into the data structure."
   ]
  },
  {
   "cell_type": "code",
   "execution_count": null,
   "id": "c10d13ad",
   "metadata": {},
   "outputs": [],
   "source": [
    "doc_types = set(chunk.metadata['doc_type'] for chunk in chunks)\n",
    "print(f\"Document types found: {', '.join(doc_types)}\")"
   ]
  },
  {
   "cell_type": "markdown",
   "id": "5ecc5c86",
   "metadata": {},
   "source": [
    "#### **Generating Embeddings using OpenAI**\n",
    "\n",
    "OpenAI embeddings are generated for each text chunk, converting text into high-dimensional vectors that capture semantic meaning."
   ]
  },
  {
   "cell_type": "code",
   "execution_count": null,
   "id": "cf0913b4",
   "metadata": {},
   "outputs": [],
   "source": [
    "embeddings = OpenAIEmbeddings()"
   ]
  },
  {
   "cell_type": "markdown",
   "id": "39ee72a9",
   "metadata": {},
   "source": [
    "### **Next step: Indexing**  \n",
    "\n",
    "Indexing in a **RAG (Retrieval-Augmented Generation) system** involves converting documents into **vector embeddings** and storing them in a **vector database** for efficient retrieval. Here’s what actually happens:  \n",
    "\n",
    "1. **Text Embedding:**  \n",
    "   - The embedding model (**e.g., `sentence-transformers/all-MiniLM-L6-v2`**) converts each document (or chunk) into a high-dimensional numerical vector.  \n",
    "   - This transformation captures the semantic meaning of the text.  \n",
    "\n",
    "2. **Storing in the Vector Database:**  \n",
    "   - The generated embeddings are stored in a **vector store** (e.g., **ChromaDB**) alongside metadata like document type.  \n",
    "   - These embeddings act as **index entries**, allowing the system to quickly find semantically similar texts.  "
   ]
  },
  {
   "cell_type": "code",
   "execution_count": null,
   "id": "7daf728f",
   "metadata": {},
   "outputs": [],
   "source": [
    "# Managing the Chroma Vector Store\n",
    "\n",
    "if os.path.exists(db_name):\n",
    "    Chroma(persist_directory=db_name, embedding_function=embeddings).delete_collection()\n",
    "\n",
    "# Indexing\n",
    "vectorstore = Chroma.from_documents(documents=chunks, embedding=embeddings, persist_directory=db_name)\n",
    "print(f\"Vectorstore created with {vectorstore._collection.count()} documents\")"
   ]
  },
  {
   "cell_type": "markdown",
   "id": "e366f671",
   "metadata": {},
   "source": [
    "The Chroma vector store is initialized. If an existing store is found, it is deleted to start fresh. The new store is populated with document chunks and their embeddings.\n",
    "\n",
    "---"
   ]
  },
  {
   "cell_type": "markdown",
   "id": "e2385357",
   "metadata": {},
   "source": [
    "#### **Analyzing Embedding Dimensions**\n",
    "\n",
    "Let's retrieves a sample embedding and prints its dimensionality."
   ]
  },
  {
   "cell_type": "code",
   "execution_count": null,
   "id": "71df45d8",
   "metadata": {},
   "outputs": [],
   "source": [
    "collection = vectorstore._collection\n",
    "sample_embedding = collection.get(limit=1, include=[\"embeddings\"])[\"embeddings\"][0]\n",
    "dimensions = len(sample_embedding)\n",
    "print(f\"The vectors have {dimensions:,} dimensions\")"
   ]
  },
  {
   "cell_type": "markdown",
   "id": "20c48601",
   "metadata": {},
   "source": [
    "#### **Visualizing the Vector Store**\n"
   ]
  },
  {
   "cell_type": "code",
   "execution_count": null,
   "id": "ea1a0086",
   "metadata": {},
   "outputs": [],
   "source": [
    "result = collection.get(include=['embeddings', 'documents', 'metadatas'])\n",
    "vectors = np.array(result['embeddings'])\n",
    "documents = result['documents']\n",
    "doc_types = [metadata['doc_type'] for metadata in result['metadatas']]\n",
    "colors = [['blue', 'green', 'red', 'orange'][['products', 'employees', 'contracts', 'company'].index(t)] for t in doc_types]"
   ]
  },
  {
   "cell_type": "markdown",
   "id": "af989622",
   "metadata": {},
   "source": [
    "- **To explain the above code**: The embeddings, documents, and metadata are retrieved for visualization. Each document type is assigned a unique color for clarity.\n",
    "\n",
    "---"
   ]
  },
  {
   "cell_type": "markdown",
   "id": "a3ffdbc0",
   "metadata": {},
   "source": [
    "#### **Reducing Dimensionality with t-SNE**"
   ]
  },
  {
   "cell_type": "code",
   "execution_count": null,
   "id": "e2d6c232",
   "metadata": {},
   "outputs": [],
   "source": [
    "tsne = TSNE(n_components=2, random_state=42)\n",
    "reduced_vectors = tsne.fit_transform(vectors)"
   ]
  },
  {
   "cell_type": "markdown",
   "id": "2b594a2a",
   "metadata": {},
   "source": [
    "### **What is t-SNE?**\n",
    "**t-SNE (t-Distributed Stochastic Neighbor Embedding)** is a dimensionality reduction technique used to visualize high-dimensional data in 2D or 3D. It preserves the local structure of the data, meaning points that are close in high-dimensional space remain close in the reduced space.\n",
    "\n",
    "### **How It Works**\n",
    "- t-SNE minimizes the difference between pairwise similarities in high-dimensional space and low-dimensional space.\n",
    "- It emphasizes local relationships, making it ideal for visualizing clusters of semantically similar documents.\n",
    "\n",
    "### **Why Is It Necessary?**\n",
    "Without t-SNE, we cannot visualize or interpret the high-dimensional embeddings. It bridges the gap between complex mathematical representations and human-understandable visuals, making it easier to debug and analyze the semantic search system."
   ]
  },
  {
   "cell_type": "markdown",
   "id": "d617231a",
   "metadata": {},
   "source": [
    "#### **Creating the 2D Scatter Plot**\n"
   ]
  },
  {
   "cell_type": "code",
   "execution_count": null,
   "id": "4ffba6cc",
   "metadata": {},
   "outputs": [],
   "source": [
    "fig = go.Figure(data=[go.Scatter(\n",
    "    x=reduced_vectors[:, 0],\n",
    "    y=reduced_vectors[:, 1],\n",
    "    mode='markers',\n",
    "    marker=dict(size=5, color=colors, opacity=0.8),\n",
    "    text=[f\"Type: {t}<br>Text: {d[:100]}...\" for t, d in zip(doc_types, documents)],\n",
    "    hoverinfo='text'\n",
    ")])\n",
    "fig.update_layout(\n",
    "    title='2D Chroma Vector Store Visualization',\n",
    "    xaxis_title='x',\n",
    "    yaxis_title='y',\n",
    "    width=800,\n",
    "    height=600,\n",
    "    margin=dict(r=20, b=10, l=10, t=40)\n",
    ")\n",
    "fig.show()"
   ]
  },
  {
   "cell_type": "markdown",
   "id": "55cfa259",
   "metadata": {},
   "source": [
    "---\n",
    "\n",
    "### **Conclusion**\n",
    "This lecture introduced the concept of **semantic search** and demonstrated how to build a semantic search system using **document embeddings** and **vector databases**. By the end of this session, students should understand how to:\n",
    "1. Load and preprocess documents.\n",
    "2. Generate embeddings and store them in a vector database.\n",
    "3. Visualize embeddings to gain insights into the data.\n",
    "\n",
    "*This foundation can later be extended to include a generative component, transforming the system into a full **Retrieval-Augmented Generation (RAG)** pipeline.*"
   ]
  }
 ],
 "metadata": {
  "kernelspec": {
   "display_name": "llms",
   "language": "python",
   "name": "python3"
  },
  "language_info": {
   "codemirror_mode": {
    "name": "ipython",
    "version": 3
   },
   "file_extension": ".py",
   "mimetype": "text/x-python",
   "name": "python",
   "nbconvert_exporter": "python",
   "pygments_lexer": "ipython3",
   "version": "3.11.11"
  }
 },
 "nbformat": 4,
 "nbformat_minor": 5
}
