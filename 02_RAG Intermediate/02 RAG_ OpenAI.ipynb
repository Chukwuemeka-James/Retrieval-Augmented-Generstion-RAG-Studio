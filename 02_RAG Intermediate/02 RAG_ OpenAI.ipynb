{
 "cells": [
  {
   "cell_type": "markdown",
   "id": "3990412c",
   "metadata": {},
   "source": [
    "## **Semantic Search System Using Document Embeddings and Vector Databases**\n",
    "\n",
    "#### **Introduction:**\n",
    "In today’s world, the ability to efficiently search and retrieve relevant information from large document collections is crucial for businesses and organizations. Traditional keyword-based search systems often fall short when dealing with complex queries or when users are unsure of the exact terms to search for. This is where **semantic search** comes into play.\n",
    "\n",
    "Semantic search leverages **natural language processing (NLP)** and **machine learning** to understand the meaning behind words and phrases, enabling more accurate and context-aware retrieval of information. In this lecture, we will explore how to build a semantic search system using **document embeddings** and **vector databases**.\n",
    "\n",
    "#### **Key Concepts Covered:**\n",
    "1. **Document Embeddings**: Representing text as high-dimensional vectors that capture semantic meaning.\n",
    "2. **Vector Databases**: Storing and querying embeddings efficiently for fast retrieval.\n",
    "3. **Visualizing Embeddings**: Using dimensionality reduction techniques like t-SNE to visualize high-dimensional data in 2D.\n"
   ]
  },
  {
   "cell_type": "code",
   "execution_count": null,
   "id": "05ac91ee",
   "metadata": {},
   "outputs": [],
   "source": [
    "# importing libraries\n",
    "from langchain.document_loaders import DirectoryLoader, TextLoader\n",
    "from langchain.text_splitter import CharacterTextSplitter\n",
    "from langchain.schema import Document\n",
    "from langchain_openai import OpenAIEmbeddings, ChatOpenAI\n",
    "from langchain_chroma import Chroma\n",
    "import numpy as np\n",
    "from sklearn.manifold import TSNE\n",
    "import plotly.graph_objects as go\n",
    "\n",
    "\n",
    "import os\n",
    "import glob\n",
    "from dotenv import load_dotenv\n",
    "import gradio as gr"
   ]
  },
  {
   "cell_type": "markdown",
   "id": "4f800bf0",
   "metadata": {},
   "source": [
    "#### **Configuring the Model and Database**\n"
   ]
  },
  {
   "cell_type": "code",
   "execution_count": null,
   "id": "a0995df8",
   "metadata": {},
   "outputs": [],
   "source": [
    "MODEL = \"gpt-4o-mini\"\n",
    "db_name = \"vector_db\""
   ]
  },
  {
   "cell_type": "markdown",
   "id": "50b2135b",
   "metadata": {},
   "source": [
    "#### **Loading Environment Variables**\n"
   ]
  },
  {
   "cell_type": "code",
   "execution_count": null,
   "id": "e21bfbe4",
   "metadata": {},
   "outputs": [],
   "source": [
    "load_dotenv(override=True)\n",
    "openai_api_key = os.getenv('OPENAI_API_KEY')\n",
    "if not openai_api_key:\n",
    "    raise ValueError(\"OPENAI_API_KEY not found in .env file\")\n",
    "os.environ['OPENAI_API_KEY'] = openai_api_key"
   ]
  },
  {
   "cell_type": "markdown",
   "id": "0e79a371",
   "metadata": {},
   "source": [
    "#### **Loading and Preprocessing Documents**\n",
    "\n",
    "let's load the documents from the subfolders in the `Palazon Global Database` directory."
   ]
  },
  {
   "cell_type": "code",
   "execution_count": null,
   "id": "92eb2be1",
   "metadata": {},
   "outputs": [],
   "source": [
    "folders = glob.glob(\"../Palazon Global Database/*\")\n",
    "text_loader_kwargs = {'encoding': 'utf-8'}\n",
    "documents = []\n",
    "for folder in folders:\n",
    "    doc_type = os.path.basename(folder)\n",
    "    loader = DirectoryLoader(folder, glob=\"**/*.md\", loader_cls=TextLoader, loader_kwargs=text_loader_kwargs)\n",
    "    folder_docs = loader.load()\n",
    "    for doc in folder_docs:\n",
    "        doc.metadata[\"doc_type\"] = doc_type\n",
    "        documents.append(doc)"
   ]
  },
  {
   "cell_type": "markdown",
   "id": "da7a33a1",
   "metadata": {},
   "source": [
    "#### **Splitting Documents into Chunks**\n",
    "\n",
    "\n",
    "let's split the documents into smaller chunks (1000 characters each) with an overlap of 200 characters to ensure context is preserved across chunks."
   ]
  },
  {
   "cell_type": "code",
   "execution_count": null,
   "id": "2a98a949",
   "metadata": {},
   "outputs": [],
   "source": [
    "text_splitter = CharacterTextSplitter(chunk_size=1000, chunk_overlap=200)\n",
    "chunks = text_splitter.split_documents(documents)"
   ]
  },
  {
   "cell_type": "markdown",
   "id": "8944b41d",
   "metadata": {},
   "source": [
    "#### **Analyzing Document Types**\n",
    "\n",
    "Let's identify and print the unique document types found in the dataset, to provide insights into the data structure."
   ]
  },
  {
   "cell_type": "code",
   "execution_count": null,
   "id": "c10d13ad",
   "metadata": {},
   "outputs": [],
   "source": [
    "doc_types = set(chunk.metadata['doc_type'] for chunk in chunks)\n",
    "print(f\"Document types found: {', '.join(doc_types)}\")"
   ]
  },
  {
   "cell_type": "markdown",
   "id": "5ecc5c86",
   "metadata": {},
   "source": [
    "#### **Generating Embeddings using OpenAI**\n",
    "\n",
    "OpenAI embeddings are generated for each text chunk, converting text into high-dimensional vectors that capture semantic meaning."
   ]
  },
  {
   "cell_type": "code",
   "execution_count": null,
   "id": "cf0913b4",
   "metadata": {},
   "outputs": [],
   "source": [
    "embeddings = OpenAIEmbeddings()"
   ]
  },
  {
   "cell_type": "markdown",
   "id": "39ee72a9",
   "metadata": {},
   "source": [
    "### **Next step: Indexing**  \n",
    "\n",
    "Indexing in a **RAG (Retrieval-Augmented Generation) system** involves converting documents into **vector embeddings** and storing them in a **vector database** for efficient retrieval. Here’s what actually happens:  \n",
    "\n",
    "1. **Text Embedding:**  \n",
    "   - The embedding model (**e.g., `sentence-transformers/all-MiniLM-L6-v2`**) converts each document (or chunk) into a high-dimensional numerical vector.  \n",
    "   - This transformation captures the semantic meaning of the text.  \n",
    "\n",
    "2. **Storing in the Vector Database:**  \n",
    "   - The generated embeddings are stored in a **vector store** (e.g., **ChromaDB**) alongside metadata like document type.  \n",
    "   - These embeddings act as **index entries**, allowing the system to quickly find semantically similar texts.  "
   ]
  },
  {
   "cell_type": "code",
   "execution_count": null,
   "id": "7daf728f",
   "metadata": {},
   "outputs": [],
   "source": [
    "# Managing the Chroma Vector Store\n",
    "\n",
    "if os.path.exists(db_name):\n",
    "    Chroma(persist_directory=db_name, embedding_function=embeddings).delete_collection()\n",
    "\n",
    "# Indexing\n",
    "vectorstore = Chroma.from_documents(documents=chunks, embedding=embeddings, persist_directory=db_name)\n",
    "print(f\"Vectorstore created with {vectorstore._collection.count()} documents\")"
   ]
  },
  {
   "cell_type": "markdown",
   "id": "e366f671",
   "metadata": {},
   "source": [
    "The Chroma vector store is initialized. If an existing store is found, it is deleted to start fresh. The new store is populated with document chunks and their embeddings.\n",
    "\n",
    "---"
   ]
  },
  {
   "cell_type": "markdown",
   "id": "e2385357",
   "metadata": {},
   "source": [
    "#### **Analyzing Embedding Dimensions**\n",
    "\n",
    "Let's retrieves a sample embedding and prints its dimensionality."
   ]
  },
  {
   "cell_type": "code",
   "execution_count": null,
   "id": "71df45d8",
   "metadata": {},
   "outputs": [],
   "source": [
    "collection = vectorstore._collection\n",
    "sample_embedding = collection.get(limit=1, include=[\"embeddings\"])[\"embeddings\"][0]\n",
    "dimensions = len(sample_embedding)\n",
    "print(f\"The vectors have {dimensions:,} dimensions\")"
   ]
  },
  {
   "cell_type": "markdown",
   "id": "228422b1",
   "metadata": {},
   "source": [
    "### **Let's create the complete RAG**"
   ]
  },
  {
   "cell_type": "code",
   "execution_count": null,
   "id": "c9ca814f",
   "metadata": {},
   "outputs": [],
   "source": [
    "# create a new Chat with OpenAI\n",
    "llm = ChatOpenAI(temperature=0.7, model_name=MODEL)\n",
    "\n",
    "# set up the conversation memory for the chat\n",
    "memory = ConversationBufferMemory(memory_key='chat_history', return_messages=True)\n",
    "\n",
    "# the retriever is an abstraction over the VectorStore that will be used during RAG\n",
    "retriever = vectorstore.as_retriever()\n",
    "\n",
    "# putting it together: set up the conversation chain with the GPT 4o-mini LLM, the vector store and memory\n",
    "conversation_chain = ConversationalRetrievalChain.from_llm(llm=llm, retriever=retriever, memory=memory)"
   ]
  },
  {
   "cell_type": "code",
   "execution_count": null,
   "id": "d651c5fd",
   "metadata": {},
   "outputs": [],
   "source": [
    "query = \"Can you describe Insurellm in a few sentences\"\n",
    "result = conversation_chain.invoke({\"question\":query})\n",
    "print(result[\"answer\"])"
   ]
  },
  {
   "cell_type": "code",
   "execution_count": null,
   "id": "07cc8180",
   "metadata": {},
   "outputs": [],
   "source": [
    "# Wrapping in a function - note that history isn't used, as the memory is in the conversation_chain\n",
    "\n",
    "def chat(message, history):\n",
    "    result = conversation_chain.invoke({\"question\": message})\n",
    "    return result[\"answer\"]"
   ]
  },
  {
   "cell_type": "code",
   "execution_count": null,
   "id": "c8d67ee9",
   "metadata": {},
   "outputs": [],
   "source": [
    "# And in Gradio:\n",
    "\n",
    "view = gr.ChatInterface(chat, type=\"messages\").launch(inbrowser=True)"
   ]
  }
 ],
 "metadata": {
  "kernelspec": {
   "display_name": "llms",
   "language": "python",
   "name": "python3"
  },
  "language_info": {
   "codemirror_mode": {
    "name": "ipython",
    "version": 3
   },
   "file_extension": ".py",
   "mimetype": "text/x-python",
   "name": "python",
   "nbconvert_exporter": "python",
   "pygments_lexer": "ipython3",
   "version": "3.11.11"
  }
 },
 "nbformat": 4,
 "nbformat_minor": 5
}
