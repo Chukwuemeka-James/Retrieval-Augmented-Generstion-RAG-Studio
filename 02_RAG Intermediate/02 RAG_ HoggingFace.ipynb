{
 "cells": [
  {
   "cell_type": "markdown",
   "id": "3990412c",
   "metadata": {},
   "source": [
    "## **Semantic Search System Using Document Embeddings and Vector Databases**\n",
    "\n",
    "#### **Introduction:**\n",
    "In today’s world, the ability to efficiently search and retrieve relevant information from large document collections is crucial for businesses and organizations. Traditional keyword-based search systems often fall short when dealing with complex queries or when users are unsure of the exact terms to search for. This is where **semantic search** comes into play.\n",
    "\n",
    "Semantic search leverages **natural language processing (NLP)** and **machine learning** to understand the meaning behind words and phrases, enabling more accurate and context-aware retrieval of information. In this lecture, we will explore how to build a semantic search system using **document embeddings** and **vector databases**.\n",
    "\n",
    "#### **Key Concepts Covered:**\n",
    "1. **Document Embeddings**: Representing text as high-dimensional vectors that capture semantic meaning.\n",
    "2. **Vector Databases**: Storing and querying embeddings efficiently for fast retrieval.\n",
    "3. **Visualizing Embeddings**: Using dimensionality reduction techniques like t-SNE to visualize high-dimensional data in 2D.\n"
   ]
  },
  {
   "cell_type": "code",
   "execution_count": 1,
   "id": "05ac91ee",
   "metadata": {},
   "outputs": [],
   "source": [
    "# importing libraries\n",
    "from langchain.document_loaders import DirectoryLoader, TextLoader\n",
    "from langchain.text_splitter import CharacterTextSplitter\n",
    "from langchain.schema import Document\n",
    "from langchain_openai import OpenAIEmbeddings, ChatOpenAI\n",
    "from langchain_chroma import Chroma\n",
    "import numpy as np\n",
    "from sklearn.manifold import TSNE\n",
    "import plotly.graph_objects as go\n",
    "from langchain_huggingface import HuggingFaceEmbeddings\n",
    "from langchain.llms import HuggingFaceHub\n",
    "from langchain.chains import ConversationalRetrievalChain\n",
    "from langchain.memory import ConversationBufferMemory\n",
    "\n",
    "import os\n",
    "import glob\n",
    "from dotenv import load_dotenv\n",
    "import gradio as gr"
   ]
  },
  {
   "cell_type": "markdown",
   "id": "4f800bf0",
   "metadata": {},
   "source": [
    "#### **Configuring the Database**\n"
   ]
  },
  {
   "cell_type": "code",
   "execution_count": 2,
   "id": "a0995df8",
   "metadata": {},
   "outputs": [],
   "source": [
    "db_name = \"vector_db\""
   ]
  },
  {
   "cell_type": "markdown",
   "id": "0e79a371",
   "metadata": {},
   "source": [
    "#### **Loading and Preprocessing Documents**\n",
    "\n",
    "let's load the documents from the subfolders in the `Palazon Global Database` directory."
   ]
  },
  {
   "cell_type": "code",
   "execution_count": 3,
   "id": "92eb2be1",
   "metadata": {},
   "outputs": [],
   "source": [
    "folders = glob.glob(\"../Palazon Global Database/*\")\n",
    "text_loader_kwargs = {'encoding': 'utf-8'}\n",
    "documents = []\n",
    "for folder in folders:\n",
    "    doc_type = os.path.basename(folder)\n",
    "    loader = DirectoryLoader(folder, glob=\"**/*.md\", loader_cls=TextLoader, loader_kwargs=text_loader_kwargs)\n",
    "    folder_docs = loader.load()\n",
    "    for doc in folder_docs:\n",
    "        doc.metadata[\"doc_type\"] = doc_type\n",
    "        documents.append(doc)"
   ]
  },
  {
   "cell_type": "markdown",
   "id": "da7a33a1",
   "metadata": {},
   "source": [
    "#### **Splitting Documents into Chunks**\n",
    "\n",
    "\n",
    "let's split the documents into smaller chunks (1000 characters each) with an overlap of 200 characters to ensure context is preserved across chunks."
   ]
  },
  {
   "cell_type": "code",
   "execution_count": 4,
   "id": "2a98a949",
   "metadata": {},
   "outputs": [],
   "source": [
    "text_splitter = CharacterTextSplitter(chunk_size=1000, chunk_overlap=200)\n",
    "chunks = text_splitter.split_documents(documents)"
   ]
  },
  {
   "cell_type": "markdown",
   "id": "8944b41d",
   "metadata": {},
   "source": [
    "#### **Analyzing Document Types**\n",
    "\n",
    "Let's identify and print the unique document types found in the dataset, to provide insights into the data structure."
   ]
  },
  {
   "cell_type": "code",
   "execution_count": 5,
   "id": "c10d13ad",
   "metadata": {},
   "outputs": [
    {
     "name": "stdout",
     "output_type": "stream",
     "text": [
      "Document types found: products, company, contracts, employees\n"
     ]
    }
   ],
   "source": [
    "doc_types = set(chunk.metadata['doc_type'] for chunk in chunks)\n",
    "print(f\"Document types found: {', '.join(doc_types)}\")"
   ]
  },
  {
   "cell_type": "markdown",
   "id": "5ecc5c86",
   "metadata": {},
   "source": [
    "#### **Generating Embeddings using HuggingFace**\n",
    "\n",
    "HuggingFace embeddings are generated for each text chunk, converting text into high-dimensional vectors that capture semantic meaning."
   ]
  },
  {
   "cell_type": "code",
   "execution_count": 6,
   "id": "7dd1f13e",
   "metadata": {},
   "outputs": [
    {
     "name": "stdout",
     "output_type": "stream",
     "text": [
      "Requirement already satisfied: langchain-huggingface in /home/chukwuemeka-james/anaconda3/envs/llms/lib/python3.11/site-packages (0.1.2)\n",
      "Requirement already satisfied: huggingface-hub>=0.23.0 in /home/chukwuemeka-james/anaconda3/envs/llms/lib/python3.11/site-packages (from langchain-huggingface) (0.29.2)\n",
      "Requirement already satisfied: langchain-core<0.4.0,>=0.3.15 in /home/chukwuemeka-james/anaconda3/envs/llms/lib/python3.11/site-packages (from langchain-huggingface) (0.3.42)\n",
      "Requirement already satisfied: sentence-transformers>=2.6.0 in /home/chukwuemeka-james/anaconda3/envs/llms/lib/python3.11/site-packages (from langchain-huggingface) (3.4.1)\n",
      "Requirement already satisfied: tokenizers>=0.19.1 in /home/chukwuemeka-james/anaconda3/envs/llms/lib/python3.11/site-packages (from langchain-huggingface) (0.21.0)\n",
      "Requirement already satisfied: transformers>=4.39.0 in /home/chukwuemeka-james/anaconda3/envs/llms/lib/python3.11/site-packages (from langchain-huggingface) (4.49.0)\n",
      "Requirement already satisfied: filelock in /home/chukwuemeka-james/anaconda3/envs/llms/lib/python3.11/site-packages (from huggingface-hub>=0.23.0->langchain-huggingface) (3.17.0)\n",
      "Requirement already satisfied: fsspec>=2023.5.0 in /home/chukwuemeka-james/anaconda3/envs/llms/lib/python3.11/site-packages (from huggingface-hub>=0.23.0->langchain-huggingface) (2024.12.0)\n",
      "Requirement already satisfied: packaging>=20.9 in /home/chukwuemeka-james/anaconda3/envs/llms/lib/python3.11/site-packages (from huggingface-hub>=0.23.0->langchain-huggingface) (24.2)\n",
      "Requirement already satisfied: pyyaml>=5.1 in /home/chukwuemeka-james/anaconda3/envs/llms/lib/python3.11/site-packages (from huggingface-hub>=0.23.0->langchain-huggingface) (6.0.2)\n",
      "Requirement already satisfied: requests in /home/chukwuemeka-james/anaconda3/envs/llms/lib/python3.11/site-packages (from huggingface-hub>=0.23.0->langchain-huggingface) (2.32.3)\n",
      "Requirement already satisfied: tqdm>=4.42.1 in /home/chukwuemeka-james/anaconda3/envs/llms/lib/python3.11/site-packages (from huggingface-hub>=0.23.0->langchain-huggingface) (4.67.1)\n",
      "Requirement already satisfied: typing-extensions>=3.7.4.3 in /home/chukwuemeka-james/anaconda3/envs/llms/lib/python3.11/site-packages (from huggingface-hub>=0.23.0->langchain-huggingface) (4.12.2)\n",
      "Requirement already satisfied: langsmith<0.4,>=0.1.125 in /home/chukwuemeka-james/anaconda3/envs/llms/lib/python3.11/site-packages (from langchain-core<0.4.0,>=0.3.15->langchain-huggingface) (0.3.12)\n",
      "Requirement already satisfied: tenacity!=8.4.0,<10.0.0,>=8.1.0 in /home/chukwuemeka-james/anaconda3/envs/llms/lib/python3.11/site-packages (from langchain-core<0.4.0,>=0.3.15->langchain-huggingface) (9.0.0)\n",
      "Requirement already satisfied: jsonpatch<2.0,>=1.33 in /home/chukwuemeka-james/anaconda3/envs/llms/lib/python3.11/site-packages (from langchain-core<0.4.0,>=0.3.15->langchain-huggingface) (1.33)\n",
      "Requirement already satisfied: pydantic<3.0.0,>=2.5.2 in /home/chukwuemeka-james/anaconda3/envs/llms/lib/python3.11/site-packages (from langchain-core<0.4.0,>=0.3.15->langchain-huggingface) (2.10.6)\n",
      "Requirement already satisfied: torch>=1.11.0 in /home/chukwuemeka-james/anaconda3/envs/llms/lib/python3.11/site-packages (from sentence-transformers>=2.6.0->langchain-huggingface) (2.6.0)\n",
      "Requirement already satisfied: scikit-learn in /home/chukwuemeka-james/anaconda3/envs/llms/lib/python3.11/site-packages (from sentence-transformers>=2.6.0->langchain-huggingface) (1.6.1)\n",
      "Requirement already satisfied: scipy in /home/chukwuemeka-james/anaconda3/envs/llms/lib/python3.11/site-packages (from sentence-transformers>=2.6.0->langchain-huggingface) (1.13.1)\n",
      "Requirement already satisfied: Pillow in /home/chukwuemeka-james/anaconda3/envs/llms/lib/python3.11/site-packages (from sentence-transformers>=2.6.0->langchain-huggingface) (11.1.0)\n",
      "Requirement already satisfied: numpy>=1.17 in /home/chukwuemeka-james/anaconda3/envs/llms/lib/python3.11/site-packages (from transformers>=4.39.0->langchain-huggingface) (1.26.4)\n",
      "Requirement already satisfied: regex!=2019.12.17 in /home/chukwuemeka-james/anaconda3/envs/llms/lib/python3.11/site-packages (from transformers>=4.39.0->langchain-huggingface) (2024.11.6)\n",
      "Requirement already satisfied: safetensors>=0.4.1 in /home/chukwuemeka-james/anaconda3/envs/llms/lib/python3.11/site-packages (from transformers>=4.39.0->langchain-huggingface) (0.5.3)\n",
      "Requirement already satisfied: jsonpointer>=1.9 in /home/chukwuemeka-james/anaconda3/envs/llms/lib/python3.11/site-packages (from jsonpatch<2.0,>=1.33->langchain-core<0.4.0,>=0.3.15->langchain-huggingface) (3.0.0)\n",
      "Requirement already satisfied: httpx<1,>=0.23.0 in /home/chukwuemeka-james/anaconda3/envs/llms/lib/python3.11/site-packages (from langsmith<0.4,>=0.1.125->langchain-core<0.4.0,>=0.3.15->langchain-huggingface) (0.28.1)\n",
      "Requirement already satisfied: orjson<4.0.0,>=3.9.14 in /home/chukwuemeka-james/anaconda3/envs/llms/lib/python3.11/site-packages (from langsmith<0.4,>=0.1.125->langchain-core<0.4.0,>=0.3.15->langchain-huggingface) (3.10.15)\n",
      "Requirement already satisfied: requests-toolbelt<2.0.0,>=1.0.0 in /home/chukwuemeka-james/anaconda3/envs/llms/lib/python3.11/site-packages (from langsmith<0.4,>=0.1.125->langchain-core<0.4.0,>=0.3.15->langchain-huggingface) (1.0.0)\n",
      "Requirement already satisfied: zstandard<0.24.0,>=0.23.0 in /home/chukwuemeka-james/anaconda3/envs/llms/lib/python3.11/site-packages (from langsmith<0.4,>=0.1.125->langchain-core<0.4.0,>=0.3.15->langchain-huggingface) (0.23.0)\n",
      "Requirement already satisfied: annotated-types>=0.6.0 in /home/chukwuemeka-james/anaconda3/envs/llms/lib/python3.11/site-packages (from pydantic<3.0.0,>=2.5.2->langchain-core<0.4.0,>=0.3.15->langchain-huggingface) (0.7.0)\n",
      "Requirement already satisfied: pydantic-core==2.27.2 in /home/chukwuemeka-james/anaconda3/envs/llms/lib/python3.11/site-packages (from pydantic<3.0.0,>=2.5.2->langchain-core<0.4.0,>=0.3.15->langchain-huggingface) (2.27.2)\n",
      "Requirement already satisfied: charset_normalizer<4,>=2 in /home/chukwuemeka-james/anaconda3/envs/llms/lib/python3.11/site-packages (from requests->huggingface-hub>=0.23.0->langchain-huggingface) (3.4.1)\n",
      "Requirement already satisfied: idna<4,>=2.5 in /home/chukwuemeka-james/anaconda3/envs/llms/lib/python3.11/site-packages (from requests->huggingface-hub>=0.23.0->langchain-huggingface) (3.10)\n",
      "Requirement already satisfied: urllib3<3,>=1.21.1 in /home/chukwuemeka-james/anaconda3/envs/llms/lib/python3.11/site-packages (from requests->huggingface-hub>=0.23.0->langchain-huggingface) (2.3.0)\n",
      "Requirement already satisfied: certifi>=2017.4.17 in /home/chukwuemeka-james/anaconda3/envs/llms/lib/python3.11/site-packages (from requests->huggingface-hub>=0.23.0->langchain-huggingface) (2025.1.31)\n",
      "Requirement already satisfied: sympy!=1.13.2,>=1.13.1 in /home/chukwuemeka-james/anaconda3/envs/llms/lib/python3.11/site-packages (from torch>=1.11.0->sentence-transformers>=2.6.0->langchain-huggingface) (1.13.3)\n",
      "Requirement already satisfied: networkx in /home/chukwuemeka-james/anaconda3/envs/llms/lib/python3.11/site-packages (from torch>=1.11.0->sentence-transformers>=2.6.0->langchain-huggingface) (3.4.2)\n",
      "Requirement already satisfied: jinja2 in /home/chukwuemeka-james/anaconda3/envs/llms/lib/python3.11/site-packages (from torch>=1.11.0->sentence-transformers>=2.6.0->langchain-huggingface) (3.1.6)\n",
      "Requirement already satisfied: joblib>=1.2.0 in /home/chukwuemeka-james/anaconda3/envs/llms/lib/python3.11/site-packages (from scikit-learn->sentence-transformers>=2.6.0->langchain-huggingface) (1.4.2)\n",
      "Requirement already satisfied: threadpoolctl>=3.1.0 in /home/chukwuemeka-james/anaconda3/envs/llms/lib/python3.11/site-packages (from scikit-learn->sentence-transformers>=2.6.0->langchain-huggingface) (3.5.0)\n",
      "Requirement already satisfied: anyio in /home/chukwuemeka-james/anaconda3/envs/llms/lib/python3.11/site-packages (from httpx<1,>=0.23.0->langsmith<0.4,>=0.1.125->langchain-core<0.4.0,>=0.3.15->langchain-huggingface) (4.8.0)\n",
      "Requirement already satisfied: httpcore==1.* in /home/chukwuemeka-james/anaconda3/envs/llms/lib/python3.11/site-packages (from httpx<1,>=0.23.0->langsmith<0.4,>=0.1.125->langchain-core<0.4.0,>=0.3.15->langchain-huggingface) (1.0.7)\n",
      "Requirement already satisfied: h11<0.15,>=0.13 in /home/chukwuemeka-james/anaconda3/envs/llms/lib/python3.11/site-packages (from httpcore==1.*->httpx<1,>=0.23.0->langsmith<0.4,>=0.1.125->langchain-core<0.4.0,>=0.3.15->langchain-huggingface) (0.14.0)\n",
      "Requirement already satisfied: mpmath<1.4,>=1.1.0 in /home/chukwuemeka-james/anaconda3/envs/llms/lib/python3.11/site-packages (from sympy!=1.13.2,>=1.13.1->torch>=1.11.0->sentence-transformers>=2.6.0->langchain-huggingface) (1.3.0)\n",
      "Requirement already satisfied: MarkupSafe>=2.0 in /home/chukwuemeka-james/anaconda3/envs/llms/lib/python3.11/site-packages (from jinja2->torch>=1.11.0->sentence-transformers>=2.6.0->langchain-huggingface) (2.1.5)\n",
      "Requirement already satisfied: sniffio>=1.1 in /home/chukwuemeka-james/anaconda3/envs/llms/lib/python3.11/site-packages (from anyio->httpx<1,>=0.23.0->langsmith<0.4,>=0.1.125->langchain-core<0.4.0,>=0.3.15->langchain-huggingface) (1.3.1)\n"
     ]
    }
   ],
   "source": [
    "! pip install -U langchain-huggingface\n"
   ]
  },
  {
   "cell_type": "markdown",
   "id": "85f38a16",
   "metadata": {},
   "source": [
    "### **Embedding**"
   ]
  },
  {
   "cell_type": "code",
   "execution_count": 7,
   "id": "cf0913b4",
   "metadata": {},
   "outputs": [],
   "source": [
    "from langchain_huggingface import HuggingFaceEmbeddings\n",
    "\n",
    "embeddings = HuggingFaceEmbeddings(model_name=\"sentence-transformers/all-MiniLM-L6-v2\")"
   ]
  },
  {
   "cell_type": "markdown",
   "id": "39ee72a9",
   "metadata": {},
   "source": [
    "#### **Next step: Indexing**  \n",
    "\n",
    "Indexing in a **RAG (Retrieval-Augmented Generation) system** involves converting documents into **vector embeddings** and storing them in a **vector database** for efficient retrieval. Here’s what actually happens:  \n",
    "\n",
    "1. **Text Embedding:**  \n",
    "   - The embedding model (**e.g., `sentence-transformers/all-MiniLM-L6-v2`**) converts each document (or chunk) into a high-dimensional numerical vector.  \n",
    "   - This transformation captures the semantic meaning of the text.  \n",
    "\n",
    "2. **Storing in the Vector Database:**  \n",
    "   - The generated embeddings are stored in a **vector store** (e.g., **ChromaDB**) alongside metadata like document type.  \n",
    "   - These embeddings act as **index entries**, allowing the system to quickly find semantically similar texts.  "
   ]
  },
  {
   "cell_type": "code",
   "execution_count": 20,
   "id": "7daf728f",
   "metadata": {},
   "outputs": [
    {
     "name": "stdout",
     "output_type": "stream",
     "text": [
      "Vectorstore created with 62 documents\n"
     ]
    }
   ],
   "source": [
    "# Managing the Chroma Vector Store\n",
    "\n",
    "if os.path.exists(db_name):\n",
    "    Chroma(persist_directory=db_name, embedding_function=embeddings).delete_collection()\n",
    "\n",
    "# Indexing\n",
    "vectorstore = Chroma.from_documents(documents=chunks, embedding=embeddings, persist_directory=db_name)\n",
    "print(f\"Vectorstore created with {vectorstore._collection.count()} documents\")"
   ]
  },
  {
   "cell_type": "markdown",
   "id": "e366f671",
   "metadata": {},
   "source": [
    "The Chroma vector store is initialized. If an existing store is found, it is deleted to start fresh. The new store is populated with document chunks and their embeddings.\n",
    "\n",
    "---"
   ]
  },
  {
   "cell_type": "markdown",
   "id": "e2385357",
   "metadata": {},
   "source": [
    "#### **Analyzing Embedding Dimensions**\n",
    "\n",
    "Let's retrieves a sample embedding and prints its dimensionality."
   ]
  },
  {
   "cell_type": "code",
   "execution_count": 21,
   "id": "71df45d8",
   "metadata": {},
   "outputs": [
    {
     "name": "stdout",
     "output_type": "stream",
     "text": [
      "The vectors have 384 dimensions\n"
     ]
    }
   ],
   "source": [
    "collection = vectorstore._collection\n",
    "sample_embedding = collection.get(limit=1, include=[\"embeddings\"])[\"embeddings\"][0]\n",
    "dimensions = len(sample_embedding)\n",
    "print(f\"The vectors have {dimensions:,} dimensions\")"
   ]
  },
  {
   "cell_type": "code",
   "execution_count": 22,
   "id": "f4cdec03",
   "metadata": {},
   "outputs": [],
   "source": [
    "# Load the embeddings model\n",
    "embeddings = HuggingFaceEmbeddings(model_name=\"sentence-transformers/all-MiniLM-L6-v2\")\n",
    "\n",
    "# Use Hugging Face's LLM\n",
    "load_dotenv()\n",
    "\n",
    "# Get the Hugging Face token\n",
    "HF_TOKEN = os.getenv(\"HF_TOKEN\")\n",
    "\n",
    "llm = HuggingFaceHub(repo_id=\"Qwen/Qwen2.5-Coder-32B-Instruct\", huggingfacehub_api_token=HF_TOKEN, model_kwargs={\"temperature\": 0.7})\n",
    "\n",
    "#llm = HuggingFaceHub(repo_id=\"HuggingFaceH4/zephyr-7b-alpha\", huggingfacehub_api_token=HF_TOKEN, model_kwargs={\"temperature\": 0.7})  \n",
    "\n",
    "# Set up memory for conversation\n",
    "memory = ConversationBufferMemory(memory_key=\"chat_history\", return_messages=True)\n",
    "\n",
    "# Use the retriever from your vectorstore\n",
    "retriever = vectorstore.as_retriever()\n",
    "\n",
    "# Create the conversational retrieval chain\n",
    "conversation_chain = ConversationalRetrievalChain.from_llm(\n",
    "    llm=llm, retriever=retriever, memory=memory\n",
    ")"
   ]
  },
  {
   "cell_type": "markdown",
   "id": "50e9e024",
   "metadata": {},
   "source": [
    "### **Rough Test material**"
   ]
  },
  {
   "cell_type": "code",
   "execution_count": 24,
   "id": "ce8d94ed",
   "metadata": {},
   "outputs": [
    {
     "name": "stdout",
     "output_type": "stream",
     "text": [
      "Use the following pieces of context to answer the question at the end. If you don't know the answer, just say that you don't know, don't try to make up an answer.\n",
      "\n",
      "# Chukwuemeka James\n",
      "\n",
      "## Summary  \n",
      "- **Date of Birth**: April 10, 1980  \n",
      "- **Job Title**: Co-Founder & Chief Executive Officer (CEO)  \n",
      "- **Location**: Lagos, Nigeria  \n",
      "\n",
      "## Palaozon Global Career Progression  \n",
      "- **2018 - Present**: Co-Founder & CEO  \n",
      "  Chukwuemeka James co-founded Palaozon Global with a vision to revolutionize renewable energy accessibility in Africa. Under his leadership, the company has grown into a premier provider of solar power solutions.  \n",
      "\n",
      "- **2014 - 2018**: Director of Energy Solutions at GreenTech Africa  \n",
      "  Before launching Palaozon Global, Chukwuemeka led large-scale solar projects, helping businesses transition to renewable energy sources.  \n",
      "\n",
      "- **2010 - 2014**: Senior Engineer at EnergyWise Consulting  \n",
      "  Chukwuemeka worked as a renewable energy consultant, advising companies on cost-effective solar power integration.\n",
      "\n",
      "- **2010 - 2014**: Senior Engineer at EnergyWise Consulting  \n",
      "  Chukwuemeka worked as a renewable energy consultant, advising companies on cost-effective solar power integration.  \n",
      "\n",
      "## Annual Performance History  \n",
      "- **2018**: **Exceeds Expectations** – Successfully launched Palaozon Global and secured key partnerships.  \n",
      "- **2019**: **Meets Expectations** – Grew the company’s market share despite economic challenges.  \n",
      "- **2020**: **Exceptional** – Led expansion into multiple African markets during the COVID-19 crisis.  \n",
      "- **2021**: **Exceeds Expectations** – Oversaw the launch of innovative solar storage solutions.  \n",
      "- **2022**: **Satisfactory** – Strengthened company culture and employee engagement.  \n",
      "- **2023**: **Exceeds Expectations** – Drove record revenue growth and established global partnerships.\n",
      "\n",
      "# Chinwe Uche  \n",
      "\n",
      "## Summary  \n",
      "- **Date of Birth**: May 27, 1988  \n",
      "- **Job Title**: Chief Financial Officer (CFO)  \n",
      "- **Location**: Lagos, Nigeria  \n",
      "\n",
      "## Palaozon Global Career Progression  \n",
      "- **2020 - Present**: Chief Financial Officer (CFO)  \n",
      "  Oversees the company’s financial planning, risk management, and investment strategies.  \n",
      "\n",
      "- **2016 - 2020**: Senior Financial Analyst at BrightSolar Inc.  \n",
      "  Managed financial forecasting and cost optimization for renewable energy projects.  \n",
      "\n",
      "- **2012 - 2016**: Financial Consultant at GreenEnergy Solutions  \n",
      "  Assisted solar startups in securing funding and optimizing financial structures.\n",
      "\n",
      "# About Palaozon Global\n",
      "\n",
      "Palaozon Global is a leading provider of sustainable solar energy solutions, dedicated to revolutionizing access to clean, reliable, and affordable power. Our mission is to bridge the energy gap by offering cutting-edge solar technology tailored for homes, businesses, and industries.\n",
      "\n",
      "## Our Vision  \n",
      "To be the most trusted and innovative solar energy company, driving a future powered by renewable energy.\n",
      "\n",
      "## Our Mission  \n",
      "- Deliver high-quality and cost-effective solar solutions.\n",
      "- Promote environmental sustainability.\n",
      "- Empower communities with reliable and efficient solar technology.\n",
      "\n",
      "## Our Values  \n",
      "- **Innovation:** Continuously improving and adopting advanced solar technology.  \n",
      "- **Sustainability:** Committed to green energy and reducing carbon footprints.  \n",
      "- **Excellence:** Ensuring top-tier product quality and customer service.  \n",
      "- **Integrity:** Operating with transparency, honesty, and accountability.\n",
      "\n",
      "Question: Given the following conversation and a follow up question, rephrase the follow up question to be a standalone question, in its original language.\n",
      "\n",
      "Chat History:\n",
      "\n",
      "Human: Tell me about chukwuemeka James\n",
      "Assistant: Use the following pieces of context to answer the question at the end. If you don't know the answer, just say that you don't know, don't try to make up an answer.\n",
      "\n",
      "# Chukwuemeka James\n",
      "\n",
      "## Summary  \n",
      "- **Date of Birth**: April 10, 1980  \n",
      "- **Job Title**: Co-Founder & Chief Executive Officer (CEO)  \n",
      "- **Location**: Lagos, Nigeria  \n",
      "\n",
      "## Palaozon Global Career Progression  \n",
      "- **2018 - Present**: Co-Founder & CEO  \n",
      "  Chukwuemeka James co-founded Palaozon Global with a vision to revolutionize renewable energy accessibility in Africa. Under his leadership, the company has grown into a premier provider of solar power solutions.  \n",
      "\n",
      "- **2014 - 2018**: Director of Energy Solutions at GreenTech Africa  \n",
      "  Before launching Palaozon Global, Chukwuemeka led large-scale solar projects, helping businesses transition to renewable energy sources.  \n",
      "\n",
      "- **2010 - 2014**: Senior Engineer at EnergyWise Consulting  \n",
      "  Chukwuemeka worked as a renewable energy consultant, advising companies on cost-effective solar power integration.\n",
      "\n",
      "- **2010 - 2014**: Senior Engineer at EnergyWise Consulting  \n",
      "  Chukwuemeka worked as a renewable energy consultant, advising companies on cost-effective solar power integration.  \n",
      "\n",
      "## Annual Performance History  \n",
      "- **2018**: **Exceeds Expectations** – Successfully launched Palaozon Global and secured key partnerships.  \n",
      "- **2019**: **Meets Expectations** – Grew the company’s market share despite economic challenges.  \n",
      "- **2020**: **Exceptional** – Led expansion into multiple African markets during the COVID-19 crisis.  \n",
      "- **2021**: **Exceeds Expectations** – Oversaw the launch of innovative solar storage solutions.  \n",
      "- **2022**: **Satisfactory** – Strengthened company culture and employee engagement.  \n",
      "- **2023**: **Exceeds Expectations** – Drove record revenue growth and established global partnerships.\n",
      "\n",
      "# Aisha Musa\n",
      "\n",
      "## Summary  \n",
      "- **Date of Birth**: August 12, 1990  \n",
      "- **Job Title**: Head of Sales  \n",
      "- **Location**: Lagos, Nigeria  \n",
      "\n",
      "## Palaozon Global Career Progression  \n",
      "- **2021 - Present**: Head of Sales  \n",
      "  Aisha leads the sales department, focusing on corporate partnerships and retail expansion.  \n",
      "\n",
      "- **2017 - 2021**: Sales Manager at GreenLite Energy  \n",
      "  Managed sales teams and increased solar product sales by 40%.  \n",
      "\n",
      "- **2014 - 2017**: Business Development Associate at SolarX Africa  \n",
      "  Worked on customer acquisition strategies and partnership building.  \n",
      "\n",
      "## Annual Performance History  \n",
      "- **2021**: **Exceeds Expectations** – Led a 20% increase in revenue.  \n",
      "- **2022**: **Meets Expectations** – Expanded regional sales operations.  \n",
      "- **2023**: **Exceptional** – Achieved record-breaking B2B sales deals.\n",
      "\n",
      "# Jessica Nnamdi  \n",
      "\n",
      "## Summary  \n",
      "- **Date of Birth**: July 18, 1992  \n",
      "- **Job Title**: Human Resources Director  \n",
      "- **Location**: Abuja, Nigeria  \n",
      "\n",
      "## Palaozon Global Career Progression  \n",
      "- **2021 - Present**: Human Resources Director  \n",
      "  Manages hiring, employee relations, and corporate culture initiatives.  \n",
      "\n",
      "- **2017 - 2021**: Senior HR Manager at GreenSun Energy  \n",
      "  Led talent acquisition and diversity programs.  \n",
      "\n",
      "- **2014 - 2017**: HR Specialist at FuturePower Technologies  \n",
      "  Focused on employee engagement and career development plans.  \n",
      "\n",
      "## Annual Performance History  \n",
      "- **2021**: **Exceeds Expectations** – Implemented a new employee benefits system.  \n",
      "- **2022**: **Exceptional** – Achieved a 90% employee retention rate.  \n",
      "- **2023**: **Meets Expectations** – Improved HR policies for hybrid work environments.  \n",
      "\n",
      "## Compensation History  \n",
      "- **2021**: $75,000 base salary  \n",
      "- **2022**: $80,000 base salary + retention bonus  \n",
      "- **2023**: $85,000 base salary\n",
      "\n",
      "Question: Tell me about chukwuemeka James\n",
      "Helpful Answer: Chukwuemeka James is the Co-Founder & CEO of Palaozon Global, a company he co-founded with a vision to revolutionize renewable energy accessibility in Africa. He has a strong background in renewable energy, having worked as a Senior Engineer at EnergyWise Consulting, a Director of Energy Solutions at GreenTech Africa, and has been instrumental in growing Palaozon Global into a premier provider of solar power solutions. His performance has consistently exceeded expectations, with notable achievements including launching Palaozon Global in 2018, leading market share growth during economic challenges, and overseeing the expansion into multiple African markets during the COVID-19 crisis. He was born on April 10, 1980, and is based in Lagos, Nigeria.\n",
      "Follow Up Input: Can you describe Palazon Global in a few sentences\n",
      "Standalone question: Can you describe Palaozon Global in a few sentences?\n",
      "Helpful Answer: Palaozon Global is a leading provider of sustainable solar energy solutions, dedicated to revolutionizing access to clean, reliable, and affordable power. Our mission is to bridge the energy gap by offering cutting-edge solar technology tailored for homes, businesses, and industries. We aim to be the most trusted and innovative solar energy company, driving a future powered by renewable energy, by continuously improving and adopting advanced solar technology, committing to green energy and reducing carbon footprints, ensuring top-tier product quality and customer service, and operating with transparency, honesty, and accountability.\n"
     ]
    }
   ],
   "source": [
    "query = \"Can you describe Palazon Global in a few sentences\"\n",
    "result = conversation_chain.invoke({\"question\":query})\n",
    "print(result[\"answer\"])"
   ]
  },
  {
   "cell_type": "markdown",
   "id": "71569334",
   "metadata": {},
   "source": [
    "### **Let's use Gradio**"
   ]
  },
  {
   "cell_type": "code",
   "execution_count": null,
   "id": "11820eff",
   "metadata": {},
   "outputs": [],
   "source": [
    "# Wrapping in a function\n",
    "def chat(message, history):\n",
    "    result = conversation_chain.invoke({\"question\": message})\n",
    "    return result[\"answer\"]\n",
    "\n",
    "# And in Gradio:\n",
    "view = gr.ChatInterface(chat, type=\"messages\").launch(inbrowser=True)"
   ]
  },
  {
   "cell_type": "code",
   "execution_count": null,
   "id": "ac11a04e",
   "metadata": {},
   "outputs": [],
   "source": []
  }
 ],
 "metadata": {
  "kernelspec": {
   "display_name": "llms",
   "language": "python",
   "name": "python3"
  },
  "language_info": {
   "codemirror_mode": {
    "name": "ipython",
    "version": 3
   },
   "file_extension": ".py",
   "mimetype": "text/x-python",
   "name": "python",
   "nbconvert_exporter": "python",
   "pygments_lexer": "ipython3",
   "version": "3.11.11"
  }
 },
 "nbformat": 4,
 "nbformat_minor": 5
}
