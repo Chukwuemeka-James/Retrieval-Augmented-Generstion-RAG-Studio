{
 "cells": [
  {
   "cell_type": "markdown",
   "id": "72bbde95",
   "metadata": {},
   "source": [
    "# **Routing in Retrieval Augmented Generation Systems**  \n",
    "\n",
    "## **Introduction to Routing**  \n",
    "Routing in AI systems refers to the process of directing user queries or data to the most appropriate resource, model, or database. It ensures that relevant information is accessed efficiently, improving the accuracy and effectiveness of AI applications.  \n",
    "\n",
    "### **Why is Routing Important?**  \n",
    "- Enhances **efficiency** by directing queries to the correct data source.  \n",
    "- Improves **accuracy** by ensuring the right model or prompt is used.  \n",
    "- Reduces **processing overhead** by avoiding unnecessary computations.  \n",
    "- Enables **scalability**, making AI systems more adaptable to diverse queries.  \n",
    "\n",
    "Routing can be categorized into two primary types:  \n",
    "1. **Logical Routing** – Based on predefined rules and structured decision-making.  \n",
    "2. **Semantic Routing** – Based on the meaning (semantics) of the query using AI techniques like embeddings and similarity measures. "
   ]
  },
  {
   "cell_type": "markdown",
   "id": "1442e23c",
   "metadata": {},
   "source": [
    "---\n",
    "\n",
    "### **1. Logical Routing**  \n",
    "Logical routing is a structured approach where a query is directed based on predefined logic, rules, or categorization. It follows a deterministic path based on explicit criteria such as keywords, categories, or metadata.  \n",
    "\n",
    "### **Example: Routing Based on Programming Language**  \n",
    "Consider a case where user queries are related to different programming languages (Python, JavaScript, Golang). We can define a **logical router** that classifies the query and directs it to the most relevant data source. "
   ]
  },
  {
   "cell_type": "code",
   "execution_count": null,
   "id": "271ca46a",
   "metadata": {},
   "outputs": [],
   "source": [
    "import os\n",
    "\n",
    "os.environ['LANGCHAIN_TRACING_V2'] = 'true'\n",
    "os.environ['LANGCHAIN_ENDPOINT'] = 'https://api.smith.langchain.com'"
   ]
  },
  {
   "cell_type": "code",
   "execution_count": 1,
   "id": "047784df",
   "metadata": {},
   "outputs": [],
   "source": [
    "# Required API keys with validation\n",
    "import os\n",
    "\n",
    "from dotenv import load_dotenv\n",
    "load_dotenv()  \n",
    "\n",
    "LANGCHAIN_API_KEY = os.getenv(\"LANGCHAIN_API_KEY\")\n",
    "GROQ_API_KEY = os.getenv(\"GROQ_API_KEY\")"
   ]
  },
  {
   "cell_type": "code",
   "execution_count": null,
   "id": "5992f2c8",
   "metadata": {},
   "outputs": [],
   "source": [
    "# Install Langchain groq\n",
    "\n",
    "# !pip install langchain-groq"
   ]
  },
  {
   "cell_type": "code",
   "execution_count": null,
   "id": "d1342c13",
   "metadata": {},
   "outputs": [],
   "source": [
    "from typing import Literal\n",
    "from langchain_groq import ChatGroq\n",
    "from langchain_core.prompts import ChatPromptTemplate\n",
    "from pydantic import BaseModel, Field"
   ]
  },
  {
   "cell_type": "markdown",
   "id": "96f86246",
   "metadata": {},
   "source": [
    "### **Define Logical Router**"
   ]
  },
  {
   "cell_type": "code",
   "execution_count": null,
   "id": "0ee6939e",
   "metadata": {},
   "outputs": [],
   "source": [
    "# Data model (unchanged)\n",
    "class RouteQuery(BaseModel):\n",
    "    \"\"\"Route a user query to the most relevant datasource.\"\"\"\n",
    "\n",
    "    datasource: Literal[\"python_docs\", \"js_docs\", \"golang_docs\"] = Field(\n",
    "        ...,\n",
    "        description=\"Given a user question choose which datasource would be most relevant for answering their question\",\n",
    "    )\n",
    "\n",
    "# LLM with function call - changed to Groq\n",
    "llm = ChatGroq(\n",
    "    model_name=\"llama3-70b-8192\",\n",
    "    temperature=0\n",
    ")\n",
    "structured_llm = llm.with_structured_output(RouteQuery)\n",
    "\n",
    "# Prompt (unchanged)\n",
    "system = \"\"\"You are an expert at routing a user question to the appropriate data source.\n",
    "\n",
    "Based on the programming language the question is referring to, route it to the relevant data source.\"\"\"\n",
    "\n",
    "prompt = ChatPromptTemplate.from_messages(\n",
    "    [\n",
    "        (\"system\", system),\n",
    "        (\"human\", \"{question}\"),\n",
    "    ]\n",
    ")\n",
    "\n",
    "# Define router (unchanged)\n",
    "router = prompt | structured_llm"
   ]
  },
  {
   "cell_type": "markdown",
   "id": "7990b65e",
   "metadata": {},
   "source": [
    "In the above implementation, the model decides which programming language documentation is most relevant based on user queries.  \n",
    "\n",
    "#### **Example Query**  \n"
   ]
  },
  {
   "cell_type": "code",
   "execution_count": 11,
   "id": "91f28321",
   "metadata": {},
   "outputs": [
    {
     "name": "stdout",
     "output_type": "stream",
     "text": [
      "python_docs\n"
     ]
    }
   ],
   "source": [
    "question = \"Why doesn't the following Python code work?\"\n",
    "result = router.invoke({\"question\": question})\n",
    "print(result.datasource)  # Output: python_docs"
   ]
  },
  {
   "cell_type": "markdown",
   "id": "03974022",
   "metadata": {},
   "source": [
    "Logical routing provides **structured** and **rule-based** query handling, ensuring that queries are sent to the correct domain.  \n",
    "\n",
    "---\n",
    "\n",
    "### **2. Semantic Routing**  \n",
    "Semantic routing involves directing a query based on its meaning rather than predefined rules. It leverages AI techniques such as **embeddings**, **vector similarity**, and **machine learning models** to determine the most appropriate response.  \n",
    "\n",
    "### **Example: Routing Based on Query Meaning**  \n",
    "Suppose we want to route a user’s query to either a **Physics** or **Mathematics** expert based on its meaning. Instead of using keywords, we embed the query and compare it with predefined knowledge areas.  "
   ]
  },
  {
   "cell_type": "code",
   "execution_count": 14,
   "id": "08ed2b81",
   "metadata": {},
   "outputs": [],
   "source": [
    "from langchain_groq import ChatGroq\n",
    "from langchain.prompts import ChatPromptTemplate\n",
    "from langchain_core.runnables import RunnablePassthrough, RunnableLambda\n",
    "from langchain_core.output_parsers import StrOutputParser\n",
    "from langchain_huggingface import HuggingFaceEmbeddings\n",
    "from sklearn.metrics.pairwise import cosine_similarity\n",
    "import os"
   ]
  },
  {
   "cell_type": "code",
   "execution_count": 25,
   "id": "9720f287",
   "metadata": {},
   "outputs": [],
   "source": [
    "# Define two expert templates\n",
    "physics_template = \"\"\"You are a physics professor. Answer physics-related questions clearly and concisely.\n",
    "When unsure, state that you don't know. Here is the question: {query}\"\"\"\n",
    "\n",
    "chemistry_template = \"\"\"You are a chemistry professor. Provide clear and concise answers to chemistry-related questions.\n",
    "If you're unsure, state that you don't know. Here is the question: {query}\"\"\"\n",
    "\n",
    "# Initialize embeddings\n",
    "embeddings = HuggingFaceEmbeddings(model_name=\"sentence-transformers/all-MiniLM-L6-v2\")\n",
    "prompt_templates = [physics_template, chemistry_template]\n",
    "\n",
    "# Embed the templates (must be plain text)\n",
    "prompt_embeddings = embeddings.embed_documents(prompt_templates)\n",
    "\n",
    "# Define routing function (fixed)\n",
    "def prompt_router(input_dict):\n",
    "    query_text = input_dict[\"query\"]    \n",
    "    query_embedding = embeddings.embed_query(query_text)\n",
    "    \n",
    "    # Calculate cosine similarity\n",
    "    similarity = cosine_similarity([query_embedding], prompt_embeddings)[0]\n",
    "    most_similar = prompt_templates[similarity.argmax()]\n",
    "    \n",
    "    print(\"Using CHEMISTRY\" if most_similar == chemistry_template else \"Using PHYSICS\")\n",
    "    \n",
    "    # Return the formatted template as a string\n",
    "    return most_similar.format(query=query_text)\n",
    "\n",
    "# Set up Groq's chat model\n",
    "groq_model = ChatGroq(model_name=\"llama3-70b-8192\", temperature=0.1)\n",
    "\n",
    "# Define the chain with proper type handling\n",
    "chain = (\n",
    "    {\"query\": RunnablePassthrough()}\n",
    "    | RunnableLambda(lambda x: x[\"query\"] if isinstance(x, dict) else x)\n",
    "    | RunnableLambda(prompt_router)\n",
    "    | groq_model \n",
    "    | StrOutputParser()\n",
    ")"
   ]
  },
  {
   "cell_type": "code",
   "execution_count": 26,
   "id": "a36898d1",
   "metadata": {},
   "outputs": [
    {
     "name": "stdout",
     "output_type": "stream",
     "text": [
      "Using CHEMISTRY\n",
      "I think there may be a small mistake there!\n",
      "\n",
      "I believe you meant to ask \"What is methane?\"\n",
      "\n",
      "Methane is a chemical compound with the molecular formula CH₄. It is a colorless, odorless, and highly flammable gas. It is the main component of natural gas and is widely used as a fuel and a chemical feedstock. Methane is also a potent greenhouse gas, and its presence in the atmosphere contributes to climate change.\n",
      "\n",
      "Is that what you were looking for?\n"
     ]
    }
   ],
   "source": [
    "# Example query (works with either format)\n",
    "query = {\"query\": \"What is mathane?\"}\n",
    "\n",
    "result = chain.invoke(query)\n",
    "print(result)"
   ]
  },
  {
   "cell_type": "code",
   "execution_count": 28,
   "id": "9ecdca0f",
   "metadata": {},
   "outputs": [
    {
     "name": "stdout",
     "output_type": "stream",
     "text": [
      "Using PHYSICS\n",
      "A black hole is a region in space where the gravitational pull is so strong that nothing, including light, can escape. It's formed when a massive star collapses in on itself and its gravity becomes so strong that it warps the fabric of spacetime around it.\n",
      "\n",
      "Here's what happens: when a star with a mass at least three times that of the sun runs out of fuel, it can no longer support its own weight. It collapses under its own gravity, causing a massive amount of matter to be compressed into an incredibly small point called a singularity. The gravity of this singularity is so strong that it creates a boundary called the event horizon, which marks the point of no return. Any matter or radiation that crosses the event horizon is trapped by the black hole's gravity and cannot escape.\n",
      "\n",
      "The term \"black\" refers to the fact that not even light can escape the gravitational pull, making it invisible to us. The \"hole\" part refers to the void or empty space left behind by the collapsed star.\n",
      "\n",
      "It's worth noting that black holes come in various sizes, ranging from small, stellar-mass black holes formed from the collapse of individual stars, to supermassive black holes found at the centers of galaxies, with masses millions or even billions of times that of the sun.\n",
      "\n",
      "I hope that helps! Do you have any follow-up questions about black holes?\n"
     ]
    }
   ],
   "source": [
    "# Example query (works with either format)\n",
    "query = {\"query\": \"What is a black hole??\"}\n",
    "\n",
    "result = chain.invoke(query)\n",
    "print(result)"
   ]
  },
  {
   "cell_type": "markdown",
   "id": "e55365b4",
   "metadata": {},
   "source": [
    "In the above example:  \n",
    "- **Semantic routing** is used to determine the most relevant expert based on the meaning of the query.  \n",
    "- The **cosine similarity** function measures how closely the query relates to either Physics or Mathematics.  \n",
    "\n",
    "\n",
    "### **Key Differences from Logical Routing**  \n",
    "| Feature             | Logical Routing | Semantic Routing |\n",
    "|---------------------|----------------|------------------|\n",
    "| **Basis**          | Predefined rules | AI-based similarity matching |\n",
    "| **Flexibility**    | Fixed decision paths | Dynamic and adaptable |\n",
    "| **Accuracy**       | Depends on rule coverage | Adapts to user intent |\n",
    "| **Scalability**    | Limited by rule complexity | Scales well with embeddings |\n",
    "\n",
    "## **Comparison: Logical vs. Semantic Routing**  \n",
    "\n",
    "| Aspect               | Logical Routing | Semantic Routing |\n",
    "|----------------------|----------------|------------------|\n",
    "| **Routing Method**  | Predefined logic and rules | AI-based meaning analysis |\n",
    "| **Use Cases**       | Well-defined query categories | Complex, intent-driven queries |\n",
    "| **Scalability**     | Limited by predefined rules | Adapts dynamically |\n",
    "| **Flexibility**     | Rigid | Highly flexible |\n",
    "| **Implementation Complexity** | Easier | More complex (requires AI models) |"
   ]
  },
  {
   "cell_type": "code",
   "execution_count": null,
   "id": "40ae2e61",
   "metadata": {},
   "outputs": [],
   "source": []
  }
 ],
 "metadata": {
  "kernelspec": {
   "display_name": "llms",
   "language": "python",
   "name": "python3"
  },
  "language_info": {
   "codemirror_mode": {
    "name": "ipython",
    "version": 3
   },
   "file_extension": ".py",
   "mimetype": "text/x-python",
   "name": "python",
   "nbconvert_exporter": "python",
   "pygments_lexer": "ipython3",
   "version": "3.11.11"
  }
 },
 "nbformat": 4,
 "nbformat_minor": 5
}
